{
 "cells": [
  {
   "cell_type": "code",
   "execution_count": 70,
   "id": "88338ab4",
   "metadata": {},
   "outputs": [],
   "source": [
    "# Importing packages\n",
    "from pathlib import Path\n",
    "import pandas as pd\n",
    "import numpy as np\n",
    "import pandas_profiling\n",
    "%matplotlib inline\n",
    "import matplotlib.pyplot as plt\n",
    "import seaborn as sns\n",
    "import warnings\n",
    "warnings.simplefilter(action = 'ignore', category = FutureWarning)\n",
    "from sklearn.preprocessing import MinMaxScaler\n",
    "\n",
    "from keras.preprocessing.sequence import TimeseriesGenerator\n",
    "from keras.models import Sequential\n",
    "from keras.layers import Dense, LSTM, SimpleRNN\n",
    "from keras.optimizers import RMSprop\n",
    "from keras.callbacks import ModelCheckpoint, EarlyStopping\n",
    "from keras.models import model_from_json\n",
    "from keras.models import Sequential\n",
    "from keras.layers import Dense\n",
    "from keras.layers import LSTM\n",
    "from statsmodels.tsa.ar_model import AutoReg\n",
    "from statsmodels.tsa.arima.model import ARIMA\n",
    "from statsmodels.tsa.seasonal import seasonal_decompose\n",
    "from statsmodels.graphics.tsaplots import plot_acf, plot_pacf\n",
    "from statsmodels.tsa.stattools import adfuller, kpss \n",
    "from sklearn.linear_model import LinearRegression\n",
    "from sklearn.metrics import mean_squared_error, mean_absolute_error\n",
    "from statsmodels.tsa.seasonal import STL\n",
    "from statsmodels.tsa.seasonal import seasonal_decompose\n",
    "from sklearn.preprocessing import MinMaxScaler\n",
    "from math import sqrt\n",
    "from array import array"
   ]
  },
  {
   "cell_type": "code",
   "execution_count": 33,
   "id": "018545de",
   "metadata": {},
   "outputs": [],
   "source": [
    "df1=pd.read_csv(\"D:\\Downloads\\qualite-de-lair-mesuree-dans-la-station-chatelet2016.csv\", index_col='DATE/HEURE',parse_dates=True, error_bad_lines=False)\n",
    "df2=pd.read_csv(\"D:\\Downloads\\qualite-de-lair-mesuree-dans-la-station-chatelet2017.csv\", index_col='DATE/HEURE',parse_dates=True, error_bad_lines=False)\n",
    "df3=pd.read_csv(\"D:\\Downloads\\qualite-de-lair-mesuree-dans-la-station-chatelet2018.csv\", index_col='DATE/HEURE',parse_dates=True, error_bad_lines=False)\n",
    "df4=pd.read_csv(\"D:\\Downloads\\qualite-de-lair-mesuree-dans-la-station-chatelet2019.csv\", index_col='DATE/HEURE',parse_dates=True, error_bad_lines=False)\n",
    "df5=pd.read_csv(\"D:\\Downloads\\qualite-de-lair-mesuree-dans-la-station-chatelet2020.csv\", index_col='DATE/HEURE',parse_dates=True, error_bad_lines=False)\n",
    "df6=pd.read_csv(\"D:\\Downloads\\qualite-de-lair-mesuree-dans-la-station-chatelet2021.csv\", index_col='DATE/HEURE',parse_dates=True, error_bad_lines=False)"
   ]
  },
  {
   "cell_type": "code",
   "execution_count": 34,
   "id": "ae9b84af",
   "metadata": {},
   "outputs": [],
   "source": [
    "df=df6.append([df5, df4, df3, df2, df1])"
   ]
  },
  {
   "cell_type": "code",
   "execution_count": 35,
   "id": "89e02d42",
   "metadata": {},
   "outputs": [
    {
     "data": {
      "text/html": [
       "<div>\n",
       "<style scoped>\n",
       "    .dataframe tbody tr th:only-of-type {\n",
       "        vertical-align: middle;\n",
       "    }\n",
       "\n",
       "    .dataframe tbody tr th {\n",
       "        vertical-align: top;\n",
       "    }\n",
       "\n",
       "    .dataframe thead th {\n",
       "        text-align: right;\n",
       "    }\n",
       "</style>\n",
       "<table border=\"1\" class=\"dataframe\">\n",
       "  <thead>\n",
       "    <tr style=\"text-align: right;\">\n",
       "      <th></th>\n",
       "      <th>NO</th>\n",
       "      <th>NO2</th>\n",
       "      <th>PM10</th>\n",
       "      <th>CO2</th>\n",
       "      <th>TEMP</th>\n",
       "      <th>HUMI</th>\n",
       "    </tr>\n",
       "    <tr>\n",
       "      <th>DATE/HEURE</th>\n",
       "      <th></th>\n",
       "      <th></th>\n",
       "      <th></th>\n",
       "      <th></th>\n",
       "      <th></th>\n",
       "      <th></th>\n",
       "    </tr>\n",
       "  </thead>\n",
       "  <tbody>\n",
       "    <tr>\n",
       "      <th>2021-12-31 23:00:00+01:00</th>\n",
       "      <td>9</td>\n",
       "      <td>23</td>\n",
       "      <td>31</td>\n",
       "      <td>519</td>\n",
       "      <td>19.1</td>\n",
       "      <td>62.1</td>\n",
       "    </tr>\n",
       "    <tr>\n",
       "      <th>2021-12-31 22:00:00+01:00</th>\n",
       "      <td>18</td>\n",
       "      <td>28</td>\n",
       "      <td>39</td>\n",
       "      <td>526</td>\n",
       "      <td>18.5</td>\n",
       "      <td>65.0</td>\n",
       "    </tr>\n",
       "    <tr>\n",
       "      <th>2021-12-31 21:00:00+01:00</th>\n",
       "      <td>37</td>\n",
       "      <td>36</td>\n",
       "      <td>51</td>\n",
       "      <td>589</td>\n",
       "      <td>18.9</td>\n",
       "      <td>64.4</td>\n",
       "    </tr>\n",
       "    <tr>\n",
       "      <th>2021-12-31 20:00:00+01:00</th>\n",
       "      <td>21</td>\n",
       "      <td>33</td>\n",
       "      <td>49</td>\n",
       "      <td>589</td>\n",
       "      <td>18.7</td>\n",
       "      <td>64.7</td>\n",
       "    </tr>\n",
       "    <tr>\n",
       "      <th>2021-12-31 19:00:00+01:00</th>\n",
       "      <td>17</td>\n",
       "      <td>30</td>\n",
       "      <td>49</td>\n",
       "      <td>628</td>\n",
       "      <td>18.8</td>\n",
       "      <td>64.1</td>\n",
       "    </tr>\n",
       "  </tbody>\n",
       "</table>\n",
       "</div>"
      ],
      "text/plain": [
       "                           NO  NO2  PM10  CO2  TEMP  HUMI\n",
       "DATE/HEURE                                               \n",
       "2021-12-31 23:00:00+01:00   9   23    31  519  19.1  62.1\n",
       "2021-12-31 22:00:00+01:00  18   28    39  526  18.5  65.0\n",
       "2021-12-31 21:00:00+01:00  37   36    51  589  18.9  64.4\n",
       "2021-12-31 20:00:00+01:00  21   33    49  589  18.7  64.7\n",
       "2021-12-31 19:00:00+01:00  17   30    49  628  18.8  64.1"
      ]
     },
     "execution_count": 35,
     "metadata": {},
     "output_type": "execute_result"
    }
   ],
   "source": [
    "#df.columns =['DATE/HEURE','NON','NO2','PM10','CO2','TEMP','HUMI']\n",
    "# delete a single row by index value 0\n",
    "#df = df.drop(labels=0, axis=0)\n",
    "#df.index= pd.to_datetime(df.index, infer_datetime_format = True, utc = True).astype('datetime64[ns]')\n",
    "df.index.freq='H'\n",
    "#df.index = pd.to_datetime(df.index).floor(\"D\")\n",
    "#df.groupby(df[\"DATE/HEURE\"]).mean()\n",
    "df.head()"
   ]
  },
  {
   "cell_type": "code",
   "execution_count": 36,
   "id": "2d4a322e",
   "metadata": {},
   "outputs": [
    {
     "data": {
      "text/html": [
       "<div>\n",
       "<style scoped>\n",
       "    .dataframe tbody tr th:only-of-type {\n",
       "        vertical-align: middle;\n",
       "    }\n",
       "\n",
       "    .dataframe tbody tr th {\n",
       "        vertical-align: top;\n",
       "    }\n",
       "\n",
       "    .dataframe thead th {\n",
       "        text-align: right;\n",
       "    }\n",
       "</style>\n",
       "<table border=\"1\" class=\"dataframe\">\n",
       "  <thead>\n",
       "    <tr style=\"text-align: right;\">\n",
       "      <th></th>\n",
       "      <th>NO</th>\n",
       "      <th>NO2</th>\n",
       "      <th>PM10</th>\n",
       "      <th>CO2</th>\n",
       "      <th>TEMP</th>\n",
       "      <th>HUMI</th>\n",
       "    </tr>\n",
       "    <tr>\n",
       "      <th>DATE/HEURE</th>\n",
       "      <th></th>\n",
       "      <th></th>\n",
       "      <th></th>\n",
       "      <th></th>\n",
       "      <th></th>\n",
       "      <th></th>\n",
       "    </tr>\n",
       "  </thead>\n",
       "  <tbody>\n",
       "    <tr>\n",
       "      <th>2021-12-31 23:00:00+01:00</th>\n",
       "      <td>9</td>\n",
       "      <td>23</td>\n",
       "      <td>31</td>\n",
       "      <td>519</td>\n",
       "      <td>19.1</td>\n",
       "      <td>62.1</td>\n",
       "    </tr>\n",
       "    <tr>\n",
       "      <th>2021-12-31 22:00:00+01:00</th>\n",
       "      <td>18</td>\n",
       "      <td>28</td>\n",
       "      <td>39</td>\n",
       "      <td>526</td>\n",
       "      <td>18.5</td>\n",
       "      <td>65.0</td>\n",
       "    </tr>\n",
       "    <tr>\n",
       "      <th>2021-12-31 21:00:00+01:00</th>\n",
       "      <td>37</td>\n",
       "      <td>36</td>\n",
       "      <td>51</td>\n",
       "      <td>589</td>\n",
       "      <td>18.9</td>\n",
       "      <td>64.4</td>\n",
       "    </tr>\n",
       "    <tr>\n",
       "      <th>2021-12-31 20:00:00+01:00</th>\n",
       "      <td>21</td>\n",
       "      <td>33</td>\n",
       "      <td>49</td>\n",
       "      <td>589</td>\n",
       "      <td>18.7</td>\n",
       "      <td>64.7</td>\n",
       "    </tr>\n",
       "    <tr>\n",
       "      <th>2021-12-31 19:00:00+01:00</th>\n",
       "      <td>17</td>\n",
       "      <td>30</td>\n",
       "      <td>49</td>\n",
       "      <td>628</td>\n",
       "      <td>18.8</td>\n",
       "      <td>64.1</td>\n",
       "    </tr>\n",
       "  </tbody>\n",
       "</table>\n",
       "</div>"
      ],
      "text/plain": [
       "                           NO  NO2  PM10  CO2  TEMP  HUMI\n",
       "DATE/HEURE                                               \n",
       "2021-12-31 23:00:00+01:00   9   23    31  519  19.1  62.1\n",
       "2021-12-31 22:00:00+01:00  18   28    39  526  18.5  65.0\n",
       "2021-12-31 21:00:00+01:00  37   36    51  589  18.9  64.4\n",
       "2021-12-31 20:00:00+01:00  21   33    49  589  18.7  64.7\n",
       "2021-12-31 19:00:00+01:00  17   30    49  628  18.8  64.1"
      ]
     },
     "execution_count": 36,
     "metadata": {},
     "output_type": "execute_result"
    }
   ],
   "source": [
    "#df.index = df['DATE/HEURE']\n",
    "#df.drop('DATE/HEURE',axis=1, inplace=True)\n",
    "\n",
    "df.head()"
   ]
  },
  {
   "cell_type": "code",
   "execution_count": 37,
   "id": "4925eb3b",
   "metadata": {},
   "outputs": [
    {
     "data": {
      "text/html": [
       "<div>\n",
       "<style scoped>\n",
       "    .dataframe tbody tr th:only-of-type {\n",
       "        vertical-align: middle;\n",
       "    }\n",
       "\n",
       "    .dataframe tbody tr th {\n",
       "        vertical-align: top;\n",
       "    }\n",
       "\n",
       "    .dataframe thead th {\n",
       "        text-align: right;\n",
       "    }\n",
       "</style>\n",
       "<table border=\"1\" class=\"dataframe\">\n",
       "  <thead>\n",
       "    <tr style=\"text-align: right;\">\n",
       "      <th></th>\n",
       "      <th>NO</th>\n",
       "      <th>NO2</th>\n",
       "      <th>PM10</th>\n",
       "      <th>CO2</th>\n",
       "      <th>TEMP</th>\n",
       "      <th>HUMI</th>\n",
       "    </tr>\n",
       "    <tr>\n",
       "      <th>DATE/HEURE</th>\n",
       "      <th></th>\n",
       "      <th></th>\n",
       "      <th></th>\n",
       "      <th></th>\n",
       "      <th></th>\n",
       "      <th></th>\n",
       "    </tr>\n",
       "  </thead>\n",
       "  <tbody>\n",
       "    <tr>\n",
       "      <th>2016-01-01 00:00:00+01:00</th>\n",
       "      <td>32</td>\n",
       "      <td>37</td>\n",
       "      <td>139</td>\n",
       "      <td>649</td>\n",
       "      <td>23.1</td>\n",
       "      <td>36.1</td>\n",
       "    </tr>\n",
       "    <tr>\n",
       "      <th>2016-01-01 01:00:00+01:00</th>\n",
       "      <td>16</td>\n",
       "      <td>32</td>\n",
       "      <td>132</td>\n",
       "      <td>575</td>\n",
       "      <td>22.9</td>\n",
       "      <td>35.6</td>\n",
       "    </tr>\n",
       "    <tr>\n",
       "      <th>2016-01-01 02:00:00+01:00</th>\n",
       "      <td>13</td>\n",
       "      <td>25</td>\n",
       "      <td>128</td>\n",
       "      <td>651</td>\n",
       "      <td>23.2</td>\n",
       "      <td>36.3</td>\n",
       "    </tr>\n",
       "    <tr>\n",
       "      <th>2016-01-01 03:00:00+01:00</th>\n",
       "      <td>14</td>\n",
       "      <td>27</td>\n",
       "      <td>125</td>\n",
       "      <td>668</td>\n",
       "      <td>23.4</td>\n",
       "      <td>36.2</td>\n",
       "    </tr>\n",
       "    <tr>\n",
       "      <th>2016-01-01 04:00:00+01:00</th>\n",
       "      <td>17</td>\n",
       "      <td>32</td>\n",
       "      <td>93</td>\n",
       "      <td>652</td>\n",
       "      <td>23.0</td>\n",
       "      <td>36.7</td>\n",
       "    </tr>\n",
       "  </tbody>\n",
       "</table>\n",
       "</div>"
      ],
      "text/plain": [
       "                           NO  NO2  PM10  CO2  TEMP  HUMI\n",
       "DATE/HEURE                                               \n",
       "2016-01-01 00:00:00+01:00  32   37   139  649  23.1  36.1\n",
       "2016-01-01 01:00:00+01:00  16   32   132  575  22.9  35.6\n",
       "2016-01-01 02:00:00+01:00  13   25   128  651  23.2  36.3\n",
       "2016-01-01 03:00:00+01:00  14   27   125  668  23.4  36.2\n",
       "2016-01-01 04:00:00+01:00  17   32    93  652  23.0  36.7"
      ]
     },
     "execution_count": 37,
     "metadata": {},
     "output_type": "execute_result"
    }
   ],
   "source": [
    "#df.index = df.index.astype('datetime64[ns]')\n",
    "df = df.iloc[::-1]\n",
    "df.head()"
   ]
  },
  {
   "cell_type": "code",
   "execution_count": 83,
   "id": "0ce2889e",
   "metadata": {},
   "outputs": [],
   "source": [
    "pandas_profiling.ProfileReport(df)"
   ]
  },
  {
   "cell_type": "code",
   "execution_count": 74,
   "id": "8e132950",
   "metadata": {},
   "outputs": [
    {
     "name": "stdout",
     "output_type": "stream",
     "text": [
      "<class 'pandas.core.frame.DataFrame'>\n",
      "Index: 52391 entries, 2016-01-01 00:00:00+01:00 to 2021-12-31 23:00:00+01:00\n",
      "Data columns (total 6 columns):\n",
      " #   Column  Non-Null Count  Dtype  \n",
      "---  ------  --------------  -----  \n",
      " 0   NO      52391 non-null  int64  \n",
      " 1   NO2     52391 non-null  int64  \n",
      " 2   PM10    52391 non-null  int64  \n",
      " 3   CO2     52391 non-null  int64  \n",
      " 4   TEMP    52391 non-null  float64\n",
      " 5   HUMI    52391 non-null  float64\n",
      "dtypes: float64(2), int64(4)\n",
      "memory usage: 2.8+ MB\n"
     ]
    }
   ],
   "source": [
    "\n",
    "#df = df[~df.index.duplicated(keep=\"first\")]\n",
    "df.info()"
   ]
  },
  {
   "cell_type": "code",
   "execution_count": null,
   "id": "c7081c6b",
   "metadata": {},
   "outputs": [],
   "source": [
    "print(np.sum(df.isna()))"
   ]
  },
  {
   "cell_type": "code",
   "execution_count": null,
   "id": "b56edc0f",
   "metadata": {},
   "outputs": [],
   "source": [
    "df['NON']= df['NON'].astype(float)\n",
    "df['NO2']=df['NO2'].astype(float)\n",
    "df['PM10']=df['PM10'].astype(float)\n",
    "df['CO2']=df['CO2'].astype(float)\n",
    "df['TEMP']=df['TEMP'].astype(float)\n",
    "df['HUMI']=df['HUMI'].astype(float)\n"
   ]
  },
  {
   "cell_type": "code",
   "execution_count": null,
   "id": "2216b881",
   "metadata": {},
   "outputs": [],
   "source": [
    "df['NON']=df['NON'].replace(0.0,df['CO2'].mean())\n",
    "df['NO2']=df['NO2'].replace(0.0,df['CO2'].mean())\n",
    "df['PM10']=df['PM10'].replace(0.0,df['CO2'].mean())\n",
    "df['TEMP']=df['TEMP'].replace(0.0,df['CO2'].mean())\n",
    "df['HUMI']=df['HUMI'].replace(0.0,df['CO2'].mean())\n",
    "\n",
    "df['CO2']=df['CO2'].replace('<',df['CO2'].mean())"
   ]
  },
  {
   "cell_type": "code",
   "execution_count": null,
   "id": "9d832796",
   "metadata": {},
   "outputs": [],
   "source": []
  },
  {
   "cell_type": "code",
   "execution_count": null,
   "id": "7a0a989f",
   "metadata": {},
   "outputs": [],
   "source": []
  },
  {
   "cell_type": "code",
   "execution_count": null,
   "id": "7ba8aabb",
   "metadata": {},
   "outputs": [],
   "source": []
  },
  {
   "cell_type": "code",
   "execution_count": 39,
   "id": "2effc1d2",
   "metadata": {
    "scrolled": false
   },
   "outputs": [
    {
     "data": {
      "text/plain": [
       "<AxesSubplot:xlabel='DATE/HEURE'>"
      ]
     },
     "execution_count": 39,
     "metadata": {},
     "output_type": "execute_result"
    },
    {
     "data": {
      "image/png": "[encoded data removed]",
      "text/plain": [
       "<Figure size 1200x600 with 1 Axes>"
      ]
     },
     "metadata": {},
     "output_type": "display_data"
    }
   ],
   "source": [
    "df['CO2'].plot(figsize=(12,6))"
   ]
  },
  {
   "cell_type": "code",
   "execution_count": 40,
   "id": "43bd4b0b",
   "metadata": {},
   "outputs": [
    {
     "data": {
      "image/png": "[encoded data removed]",
      "text/plain": [
       "<Figure size 640x480 with 4 Axes>"
      ]
     },
     "metadata": {},
     "output_type": "display_data"
    }
   ],
   "source": [
    "#RNN\n",
    "\n",
    "results= seasonal_decompose(df['CO2'], extrapolate_trend='freq', period=1)\n",
    "results.plot();\n",
    "\n"
   ]
  },
  {
   "cell_type": "code",
   "execution_count": 41,
   "id": "36a5f370",
   "metadata": {},
   "outputs": [
    {
     "name": "stdout",
     "output_type": "stream",
     "text": [
      "<class 'pandas.core.frame.DataFrame'>\n",
      "Index: 52391 entries, 2016-01-01 00:00:00+01:00 to 2021-12-31 23:00:00+01:00\n",
      "Data columns (total 6 columns):\n",
      " #   Column  Non-Null Count  Dtype  \n",
      "---  ------  --------------  -----  \n",
      " 0   NO      52391 non-null  int64  \n",
      " 1   NO2     52391 non-null  int64  \n",
      " 2   PM10    52391 non-null  int64  \n",
      " 3   CO2     52391 non-null  int64  \n",
      " 4   TEMP    52391 non-null  float64\n",
      " 5   HUMI    52391 non-null  float64\n",
      "dtypes: float64(2), int64(4)\n",
      "memory usage: 2.8+ MB\n"
     ]
    }
   ],
   "source": [
    "df2= df[['CO2']]\n",
    "df.info()"
   ]
  },
  {
   "cell_type": "code",
   "execution_count": 42,
   "id": "5cd97ea5",
   "metadata": {},
   "outputs": [],
   "source": [
    "\n",
    "\n",
    "scaler= MinMaxScaler()"
   ]
  },
  {
   "cell_type": "code",
   "execution_count": 43,
   "id": "b7246bb9",
   "metadata": {},
   "outputs": [
    {
     "name": "stdout",
     "output_type": "stream",
     "text": [
      "<class 'pandas.core.frame.DataFrame'>\n",
      "Index: 43631 entries, 2016-01-01 00:00:00+01:00 to 2020-12-24 23:00:00+01:00\n",
      "Data columns (total 1 columns):\n",
      " #   Column  Non-Null Count  Dtype\n",
      "---  ------  --------------  -----\n",
      " 0   CO2     43631 non-null  int64\n",
      "dtypes: int64(1)\n",
      "memory usage: 681.7+ KB\n"
     ]
    }
   ],
   "source": [
    "train_data = df2.iloc[:-8760]\n",
    "test_data = df2.iloc[-8760:]\n",
    "train_data.info()\n",
    "\n",
    "scaler.fit(train_data)\n",
    "scaled_train= scaler.transform(train_data)\n",
    "scaled_test= scaler.transform(test_data)"
   ]
  },
  {
   "cell_type": "code",
   "execution_count": 44,
   "id": "a9fb1581",
   "metadata": {},
   "outputs": [],
   "source": [
    "n_input= 8760\n",
    "n_features = 1\n",
    "generator = TimeseriesGenerator(scaled_train, scaled_train, length=n_input, batch_size=1)"
   ]
  },
  {
   "cell_type": "code",
   "execution_count": null,
   "id": "92ad1e4e",
   "metadata": {},
   "outputs": [],
   "source": []
  },
  {
   "cell_type": "code",
   "execution_count": 45,
   "id": "1f776d84",
   "metadata": {},
   "outputs": [],
   "source": [
    "#definition du model \n",
    "model = Sequential()\n",
    "model.add(LSTM(1000,input_shape=(n_input,n_features)))\n",
    "model.add(Dense(1))\n",
    "#model.compile()\n",
    "model.compile(optimizer='adam', loss='mse')"
   ]
  },
  {
   "cell_type": "code",
   "execution_count": 46,
   "id": "5ef22f8d",
   "metadata": {},
   "outputs": [
    {
     "name": "stdout",
     "output_type": "stream",
     "text": [
      "Model: \"sequential_10\"\n",
      "_________________________________________________________________\n",
      " Layer (type)                Output Shape              Param #   \n",
      "=================================================================\n",
      " lstm_10 (LSTM)              (None, 1000)              4008000   \n",
      "                                                                 \n",
      " dense_3 (Dense)             (None, 1)                 1001      \n",
      "                                                                 \n",
      "=================================================================\n",
      "Total params: 4,009,001\n",
      "Trainable params: 4,009,001\n",
      "Non-trainable params: 0\n",
      "_________________________________________________________________\n"
     ]
    }
   ],
   "source": [
    "model.summary()"
   ]
  },
  {
   "cell_type": "code",
   "execution_count": 49,
   "id": "eddaad2e",
   "metadata": {},
   "outputs": [
    {
     "data": {
      "text/plain": [
       "<keras.callbacks.History at 0x2ac9170d820>"
      ]
     },
     "execution_count": 49,
     "metadata": {},
     "output_type": "execute_result"
    }
   ],
   "source": [
    "model.fit(generator, epochs=0)"
   ]
  },
  {
   "cell_type": "code",
   "execution_count": 50,
   "id": "4605cc01",
   "metadata": {},
   "outputs": [],
   "source": [
    "last_train_group = scaled_train[-8760:]"
   ]
  },
  {
   "cell_type": "code",
   "execution_count": 51,
   "id": "8d414ff5",
   "metadata": {},
   "outputs": [
    {
     "name": "stdout",
     "output_type": "stream",
     "text": [
      "WARNING:tensorflow:Model was constructed with shape (None, 8760, 1) for input KerasTensor(type_spec=TensorSpec(shape=(None, 8760, 1), dtype=tf.float32, name='lstm_10_input'), name='lstm_10_input', description=\"created by layer 'lstm_10_input'\"), but it was called on an input with incompatible shape (None, 1, 1).\n",
      "274/274 [==============================] - 3s 5ms/step\n"
     ]
    },
    {
     "data": {
      "text/plain": [
       "array([[0.06331902],\n",
       "       [0.06261747],\n",
       "       [0.06261747],\n",
       "       ...,\n",
       "       [0.06378675],\n",
       "       [0.0624304 ],\n",
       "       [0.06186918]], dtype=float32)"
      ]
     },
     "execution_count": 51,
     "metadata": {},
     "output_type": "execute_result"
    }
   ],
   "source": [
    "model.predict(last_train_group)"
   ]
  },
  {
   "cell_type": "code",
   "execution_count": 52,
   "id": "60391e7e",
   "metadata": {},
   "outputs": [
    {
     "data": {
      "text/plain": [
       "array([0.25132743])"
      ]
     },
     "execution_count": 52,
     "metadata": {},
     "output_type": "execute_result"
    }
   ],
   "source": [
    "scaled_test[0]"
   ]
  },
  {
   "cell_type": "code",
   "execution_count": 78,
   "id": "3d99993a",
   "metadata": {},
   "outputs": [
    {
     "ename": "KeyboardInterrupt",
     "evalue": "",
     "output_type": "error",
     "traceback": [
      "\u001b[1;31m---------------------------------------------------------------------------\u001b[0m",
      "\u001b[1;31mKeyboardInterrupt\u001b[0m                         Traceback (most recent call last)",
      "\u001b[1;32m~\\AppData\\Local\\Temp\\ipykernel_27004\\1562670248.py\u001b[0m in \u001b[0;36m<module>\u001b[1;34m\u001b[0m\n\u001b[0;32m      6\u001b[0m \u001b[1;32mfor\u001b[0m \u001b[0mi\u001b[0m \u001b[1;32min\u001b[0m \u001b[0mrange\u001b[0m\u001b[1;33m(\u001b[0m\u001b[0mlen\u001b[0m\u001b[1;33m(\u001b[0m\u001b[0mtest_data\u001b[0m\u001b[1;33m)\u001b[0m\u001b[1;33m)\u001b[0m\u001b[1;33m:\u001b[0m\u001b[1;33m\u001b[0m\u001b[1;33m\u001b[0m\u001b[0m\n\u001b[0;32m      7\u001b[0m     \u001b[1;31m#prediction du premier groupe\u001b[0m\u001b[1;33m\u001b[0m\u001b[1;33m\u001b[0m\u001b[0m\n\u001b[1;32m----> 8\u001b[1;33m     \u001b[0mgroupe_actuel\u001b[0m\u001b[1;33m=\u001b[0m \u001b[0mmodel\u001b[0m\u001b[1;33m.\u001b[0m\u001b[0mpredict\u001b[0m\u001b[1;33m(\u001b[0m\u001b[0mgroupe_actuel\u001b[0m\u001b[1;33m)\u001b[0m\u001b[1;33m[\u001b[0m\u001b[1;36m0\u001b[0m\u001b[1;33m]\u001b[0m\u001b[1;33m\u001b[0m\u001b[1;33m\u001b[0m\u001b[0m\n\u001b[0m\u001b[0;32m      9\u001b[0m \u001b[1;33m\u001b[0m\u001b[0m\n\u001b[0;32m     10\u001b[0m     \u001b[1;31m#ajouter la prediction dans la liste\u001b[0m\u001b[1;33m\u001b[0m\u001b[1;33m\u001b[0m\u001b[0m\n",
      "\u001b[1;32mD:\\Anaonda\\lib\\site-packages\\keras\\utils\\traceback_utils.py\u001b[0m in \u001b[0;36merror_handler\u001b[1;34m(*args, **kwargs)\u001b[0m\n\u001b[0;32m     63\u001b[0m         \u001b[0mfiltered_tb\u001b[0m \u001b[1;33m=\u001b[0m \u001b[1;32mNone\u001b[0m\u001b[1;33m\u001b[0m\u001b[1;33m\u001b[0m\u001b[0m\n\u001b[0;32m     64\u001b[0m         \u001b[1;32mtry\u001b[0m\u001b[1;33m:\u001b[0m\u001b[1;33m\u001b[0m\u001b[1;33m\u001b[0m\u001b[0m\n\u001b[1;32m---> 65\u001b[1;33m             \u001b[1;32mreturn\u001b[0m \u001b[0mfn\u001b[0m\u001b[1;33m(\u001b[0m\u001b[1;33m*\u001b[0m\u001b[0margs\u001b[0m\u001b[1;33m,\u001b[0m \u001b[1;33m**\u001b[0m\u001b[0mkwargs\u001b[0m\u001b[1;33m)\u001b[0m\u001b[1;33m\u001b[0m\u001b[1;33m\u001b[0m\u001b[0m\n\u001b[0m\u001b[0;32m     66\u001b[0m         \u001b[1;32mexcept\u001b[0m \u001b[0mException\u001b[0m \u001b[1;32mas\u001b[0m \u001b[0me\u001b[0m\u001b[1;33m:\u001b[0m\u001b[1;33m\u001b[0m\u001b[1;33m\u001b[0m\u001b[0m\n\u001b[0;32m     67\u001b[0m             \u001b[0mfiltered_tb\u001b[0m \u001b[1;33m=\u001b[0m \u001b[0m_process_traceback_frames\u001b[0m\u001b[1;33m(\u001b[0m\u001b[0me\u001b[0m\u001b[1;33m.\u001b[0m\u001b[0m__traceback__\u001b[0m\u001b[1;33m)\u001b[0m\u001b[1;33m\u001b[0m\u001b[1;33m\u001b[0m\u001b[0m\n",
      "\u001b[1;32mD:\\Anaonda\\lib\\site-packages\\keras\\engine\\training.py\u001b[0m in \u001b[0;36mpredict\u001b[1;34m(self, x, batch_size, verbose, steps, callbacks, max_queue_size, workers, use_multiprocessing)\u001b[0m\n\u001b[0;32m   2251\u001b[0m                     \u001b[1;32mfor\u001b[0m \u001b[0mstep\u001b[0m \u001b[1;32min\u001b[0m \u001b[0mdata_handler\u001b[0m\u001b[1;33m.\u001b[0m\u001b[0msteps\u001b[0m\u001b[1;33m(\u001b[0m\u001b[1;33m)\u001b[0m\u001b[1;33m:\u001b[0m\u001b[1;33m\u001b[0m\u001b[1;33m\u001b[0m\u001b[0m\n\u001b[0;32m   2252\u001b[0m                         \u001b[0mcallbacks\u001b[0m\u001b[1;33m.\u001b[0m\u001b[0mon_predict_batch_begin\u001b[0m\u001b[1;33m(\u001b[0m\u001b[0mstep\u001b[0m\u001b[1;33m)\u001b[0m\u001b[1;33m\u001b[0m\u001b[1;33m\u001b[0m\u001b[0m\n\u001b[1;32m-> 2253\u001b[1;33m                         \u001b[0mtmp_batch_outputs\u001b[0m \u001b[1;33m=\u001b[0m \u001b[0mself\u001b[0m\u001b[1;33m.\u001b[0m\u001b[0mpredict_function\u001b[0m\u001b[1;33m(\u001b[0m\u001b[0miterator\u001b[0m\u001b[1;33m)\u001b[0m\u001b[1;33m\u001b[0m\u001b[1;33m\u001b[0m\u001b[0m\n\u001b[0m\u001b[0;32m   2254\u001b[0m                         \u001b[1;32mif\u001b[0m \u001b[0mdata_handler\u001b[0m\u001b[1;33m.\u001b[0m\u001b[0mshould_sync\u001b[0m\u001b[1;33m:\u001b[0m\u001b[1;33m\u001b[0m\u001b[1;33m\u001b[0m\u001b[0m\n\u001b[0;32m   2255\u001b[0m                             \u001b[0mcontext\u001b[0m\u001b[1;33m.\u001b[0m\u001b[0masync_wait\u001b[0m\u001b[1;33m(\u001b[0m\u001b[1;33m)\u001b[0m\u001b[1;33m\u001b[0m\u001b[1;33m\u001b[0m\u001b[0m\n",
      "\u001b[1;32mD:\\Anaonda\\lib\\site-packages\\tensorflow\\python\\util\\traceback_utils.py\u001b[0m in \u001b[0;36merror_handler\u001b[1;34m(*args, **kwargs)\u001b[0m\n\u001b[0;32m    148\u001b[0m     \u001b[0mfiltered_tb\u001b[0m \u001b[1;33m=\u001b[0m \u001b[1;32mNone\u001b[0m\u001b[1;33m\u001b[0m\u001b[1;33m\u001b[0m\u001b[0m\n\u001b[0;32m    149\u001b[0m     \u001b[1;32mtry\u001b[0m\u001b[1;33m:\u001b[0m\u001b[1;33m\u001b[0m\u001b[1;33m\u001b[0m\u001b[0m\n\u001b[1;32m--> 150\u001b[1;33m       \u001b[1;32mreturn\u001b[0m \u001b[0mfn\u001b[0m\u001b[1;33m(\u001b[0m\u001b[1;33m*\u001b[0m\u001b[0margs\u001b[0m\u001b[1;33m,\u001b[0m \u001b[1;33m**\u001b[0m\u001b[0mkwargs\u001b[0m\u001b[1;33m)\u001b[0m\u001b[1;33m\u001b[0m\u001b[1;33m\u001b[0m\u001b[0m\n\u001b[0m\u001b[0;32m    151\u001b[0m     \u001b[1;32mexcept\u001b[0m \u001b[0mException\u001b[0m \u001b[1;32mas\u001b[0m \u001b[0me\u001b[0m\u001b[1;33m:\u001b[0m\u001b[1;33m\u001b[0m\u001b[1;33m\u001b[0m\u001b[0m\n\u001b[0;32m    152\u001b[0m       \u001b[0mfiltered_tb\u001b[0m \u001b[1;33m=\u001b[0m \u001b[0m_process_traceback_frames\u001b[0m\u001b[1;33m(\u001b[0m\u001b[0me\u001b[0m\u001b[1;33m.\u001b[0m\u001b[0m__traceback__\u001b[0m\u001b[1;33m)\u001b[0m\u001b[1;33m\u001b[0m\u001b[1;33m\u001b[0m\u001b[0m\n",
      "\u001b[1;32mD:\\Anaonda\\lib\\site-packages\\tensorflow\\python\\eager\\def_function.py\u001b[0m in \u001b[0;36m__call__\u001b[1;34m(self, *args, **kwds)\u001b[0m\n\u001b[0;32m    913\u001b[0m \u001b[1;33m\u001b[0m\u001b[0m\n\u001b[0;32m    914\u001b[0m       \u001b[1;32mwith\u001b[0m \u001b[0mOptionalXlaContext\u001b[0m\u001b[1;33m(\u001b[0m\u001b[0mself\u001b[0m\u001b[1;33m.\u001b[0m\u001b[0m_jit_compile\u001b[0m\u001b[1;33m)\u001b[0m\u001b[1;33m:\u001b[0m\u001b[1;33m\u001b[0m\u001b[1;33m\u001b[0m\u001b[0m\n\u001b[1;32m--> 915\u001b[1;33m         \u001b[0mresult\u001b[0m \u001b[1;33m=\u001b[0m \u001b[0mself\u001b[0m\u001b[1;33m.\u001b[0m\u001b[0m_call\u001b[0m\u001b[1;33m(\u001b[0m\u001b[1;33m*\u001b[0m\u001b[0margs\u001b[0m\u001b[1;33m,\u001b[0m \u001b[1;33m**\u001b[0m\u001b[0mkwds\u001b[0m\u001b[1;33m)\u001b[0m\u001b[1;33m\u001b[0m\u001b[1;33m\u001b[0m\u001b[0m\n\u001b[0m\u001b[0;32m    916\u001b[0m \u001b[1;33m\u001b[0m\u001b[0m\n\u001b[0;32m    917\u001b[0m       \u001b[0mnew_tracing_count\u001b[0m \u001b[1;33m=\u001b[0m \u001b[0mself\u001b[0m\u001b[1;33m.\u001b[0m\u001b[0mexperimental_get_tracing_count\u001b[0m\u001b[1;33m(\u001b[0m\u001b[1;33m)\u001b[0m\u001b[1;33m\u001b[0m\u001b[1;33m\u001b[0m\u001b[0m\n",
      "\u001b[1;32mD:\\Anaonda\\lib\\site-packages\\tensorflow\\python\\eager\\def_function.py\u001b[0m in \u001b[0;36m_call\u001b[1;34m(self, *args, **kwds)\u001b[0m\n\u001b[0;32m    952\u001b[0m       \u001b[1;31m# In this case we have not created variables on the first call. So we can\u001b[0m\u001b[1;33m\u001b[0m\u001b[1;33m\u001b[0m\u001b[0m\n\u001b[0;32m    953\u001b[0m       \u001b[1;31m# run the first trace but we should fail if variables are created.\u001b[0m\u001b[1;33m\u001b[0m\u001b[1;33m\u001b[0m\u001b[0m\n\u001b[1;32m--> 954\u001b[1;33m       \u001b[0mresults\u001b[0m \u001b[1;33m=\u001b[0m \u001b[0mself\u001b[0m\u001b[1;33m.\u001b[0m\u001b[0m_stateful_fn\u001b[0m\u001b[1;33m(\u001b[0m\u001b[1;33m*\u001b[0m\u001b[0margs\u001b[0m\u001b[1;33m,\u001b[0m \u001b[1;33m**\u001b[0m\u001b[0mkwds\u001b[0m\u001b[1;33m)\u001b[0m\u001b[1;33m\u001b[0m\u001b[1;33m\u001b[0m\u001b[0m\n\u001b[0m\u001b[0;32m    955\u001b[0m       \u001b[1;32mif\u001b[0m \u001b[0mself\u001b[0m\u001b[1;33m.\u001b[0m\u001b[0m_created_variables\u001b[0m \u001b[1;32mand\u001b[0m \u001b[1;32mnot\u001b[0m \u001b[0mALLOW_DYNAMIC_VARIABLE_CREATION\u001b[0m\u001b[1;33m:\u001b[0m\u001b[1;33m\u001b[0m\u001b[1;33m\u001b[0m\u001b[0m\n\u001b[0;32m    956\u001b[0m         raise ValueError(\"Creating variables on a non-first call to a function\"\n",
      "\u001b[1;32mD:\\Anaonda\\lib\\site-packages\\tensorflow\\python\\eager\\function.py\u001b[0m in \u001b[0;36m__call__\u001b[1;34m(self, *args, **kwargs)\u001b[0m\n\u001b[0;32m   2494\u001b[0m       (graph_function,\n\u001b[0;32m   2495\u001b[0m        filtered_flat_args) = self._maybe_define_function(args, kwargs)\n\u001b[1;32m-> 2496\u001b[1;33m     return graph_function._call_flat(\n\u001b[0m\u001b[0;32m   2497\u001b[0m         filtered_flat_args, captured_inputs=graph_function.captured_inputs)  # pylint: disable=protected-access\n\u001b[0;32m   2498\u001b[0m \u001b[1;33m\u001b[0m\u001b[0m\n",
      "\u001b[1;32mD:\\Anaonda\\lib\\site-packages\\tensorflow\\python\\eager\\function.py\u001b[0m in \u001b[0;36m_call_flat\u001b[1;34m(self, args, captured_inputs, cancellation_manager)\u001b[0m\n\u001b[0;32m   1860\u001b[0m         and executing_eagerly):\n\u001b[0;32m   1861\u001b[0m       \u001b[1;31m# No tape is watching; skip to running the function.\u001b[0m\u001b[1;33m\u001b[0m\u001b[1;33m\u001b[0m\u001b[0m\n\u001b[1;32m-> 1862\u001b[1;33m       return self._build_call_outputs(self._inference_function.call(\n\u001b[0m\u001b[0;32m   1863\u001b[0m           ctx, args, cancellation_manager=cancellation_manager))\n\u001b[0;32m   1864\u001b[0m     forward_backward = self._select_forward_and_backward_functions(\n",
      "\u001b[1;32mD:\\Anaonda\\lib\\site-packages\\tensorflow\\python\\eager\\function.py\u001b[0m in \u001b[0;36mcall\u001b[1;34m(self, ctx, args, cancellation_manager)\u001b[0m\n\u001b[0;32m    497\u001b[0m       \u001b[1;32mwith\u001b[0m \u001b[0m_InterpolateFunctionError\u001b[0m\u001b[1;33m(\u001b[0m\u001b[0mself\u001b[0m\u001b[1;33m)\u001b[0m\u001b[1;33m:\u001b[0m\u001b[1;33m\u001b[0m\u001b[1;33m\u001b[0m\u001b[0m\n\u001b[0;32m    498\u001b[0m         \u001b[1;32mif\u001b[0m \u001b[0mcancellation_manager\u001b[0m \u001b[1;32mis\u001b[0m \u001b[1;32mNone\u001b[0m\u001b[1;33m:\u001b[0m\u001b[1;33m\u001b[0m\u001b[1;33m\u001b[0m\u001b[0m\n\u001b[1;32m--> 499\u001b[1;33m           outputs = execute.execute(\n\u001b[0m\u001b[0;32m    500\u001b[0m               \u001b[0mstr\u001b[0m\u001b[1;33m(\u001b[0m\u001b[0mself\u001b[0m\u001b[1;33m.\u001b[0m\u001b[0msignature\u001b[0m\u001b[1;33m.\u001b[0m\u001b[0mname\u001b[0m\u001b[1;33m)\u001b[0m\u001b[1;33m,\u001b[0m\u001b[1;33m\u001b[0m\u001b[1;33m\u001b[0m\u001b[0m\n\u001b[0;32m    501\u001b[0m               \u001b[0mnum_outputs\u001b[0m\u001b[1;33m=\u001b[0m\u001b[0mself\u001b[0m\u001b[1;33m.\u001b[0m\u001b[0m_num_outputs\u001b[0m\u001b[1;33m,\u001b[0m\u001b[1;33m\u001b[0m\u001b[1;33m\u001b[0m\u001b[0m\n",
      "\u001b[1;32mD:\\Anaonda\\lib\\site-packages\\tensorflow\\python\\eager\\execute.py\u001b[0m in \u001b[0;36mquick_execute\u001b[1;34m(op_name, num_outputs, inputs, attrs, ctx, name)\u001b[0m\n\u001b[0;32m     52\u001b[0m   \u001b[1;32mtry\u001b[0m\u001b[1;33m:\u001b[0m\u001b[1;33m\u001b[0m\u001b[1;33m\u001b[0m\u001b[0m\n\u001b[0;32m     53\u001b[0m     \u001b[0mctx\u001b[0m\u001b[1;33m.\u001b[0m\u001b[0mensure_initialized\u001b[0m\u001b[1;33m(\u001b[0m\u001b[1;33m)\u001b[0m\u001b[1;33m\u001b[0m\u001b[1;33m\u001b[0m\u001b[0m\n\u001b[1;32m---> 54\u001b[1;33m     tensors = pywrap_tfe.TFE_Py_Execute(ctx._handle, device_name, op_name,\n\u001b[0m\u001b[0;32m     55\u001b[0m                                         inputs, attrs, num_outputs)\n\u001b[0;32m     56\u001b[0m   \u001b[1;32mexcept\u001b[0m \u001b[0mcore\u001b[0m\u001b[1;33m.\u001b[0m\u001b[0m_NotOkStatusException\u001b[0m \u001b[1;32mas\u001b[0m \u001b[0me\u001b[0m\u001b[1;33m:\u001b[0m\u001b[1;33m\u001b[0m\u001b[1;33m\u001b[0m\u001b[0m\n",
      "\u001b[1;31mKeyboardInterrupt\u001b[0m: "
     ]
    }
   ],
   "source": [
    "predictions_tests=[]\n",
    "\n",
    "premier_groupe = scaled_train[-n_input:]\n",
    "groupe_actuel= premier_groupe.reshape((1, n_input, n_features))\n",
    "\n",
    "for i in range(len(test_data)):\n",
    "    #prediction du premier groupe\n",
    "    groupe_actuel= model.predict(groupe_actuel)[0]\n",
    "    \n",
    "    #ajouter la prediction dans la liste\n",
    "    predictions_tests.append(groupe_actuel)\n",
    "    \n",
    "    #on utilise la prediction pour re-initialiser le groupe et enlever la premiere valeur\n",
    "    groupe_actuel= np.append(groupe_actuel[:,1:,:], [[groupe_actuel]], axis=1)"
   ]
  },
  {
   "cell_type": "code",
   "execution_count": 67,
   "id": "1d35f3ec",
   "metadata": {},
   "outputs": [],
   "source": [
    "predictions_tests_retransforme= scaler.inverse_transform(predictions_tests)"
   ]
  },
  {
   "cell_type": "code",
   "execution_count": null,
   "id": "d04a4de9",
   "metadata": {},
   "outputs": [],
   "source": [
    "test_data['predictions']=predictions_tests_retransforme"
   ]
  },
  {
   "cell_type": "code",
   "execution_count": 64,
   "id": "9c5a43c2",
   "metadata": {},
   "outputs": [
    {
     "data": {
      "text/plain": [
       "<AxesSubplot:xlabel='DATE/HEURE'>"
      ]
     },
     "execution_count": 64,
     "metadata": {},
     "output_type": "execute_result"
    },
    {
     "data": {
      "image/png": "[encoded data removed]",
      "text/plain": [
       "<Figure size 1200x600 with 1 Axes>"
      ]
     },
     "metadata": {},
     "output_type": "display_data"
    }
   ],
   "source": [
    "test_data.plot(figsize=(12,6))"
   ]
  },
  {
   "cell_type": "code",
   "execution_count": 81,
   "id": "19d3b37c",
   "metadata": {},
   "outputs": [],
   "source": [
    "rmse= sqrt(mean_squared_error(test_data['CO2'], test_data['predictions']))\n",
    "print(rmse)"
   ]
  },
  {
   "cell_type": "code",
   "execution_count": null,
   "id": "e431a395",
   "metadata": {},
   "outputs": [],
   "source": []
  },
  {
   "cell_type": "code",
   "execution_count": null,
   "id": "e5c1a45b",
   "metadata": {},
   "outputs": [],
   "source": []
  },
  {
   "cell_type": "code",
   "execution_count": null,
   "id": "b943f1ea",
   "metadata": {},
   "outputs": [],
   "source": []
  },
  {
   "cell_type": "code",
   "execution_count": null,
   "id": "a650912a",
   "metadata": {},
   "outputs": [],
   "source": []
  },
  {
   "cell_type": "code",
   "execution_count": null,
   "id": "60fd8972",
   "metadata": {},
   "outputs": [],
   "source": []
  },
  {
   "cell_type": "code",
   "execution_count": null,
   "id": "61a883c6",
   "metadata": {},
   "outputs": [],
   "source": []
  },
  {
   "cell_type": "code",
   "execution_count": null,
   "id": "793ae03a",
   "metadata": {},
   "outputs": [],
   "source": []
  },
  {
   "cell_type": "code",
   "execution_count": null,
   "id": "620a4398",
   "metadata": {},
   "outputs": [],
   "source": []
  },
  {
   "cell_type": "code",
   "execution_count": null,
   "id": "f57ccd1b",
   "metadata": {},
   "outputs": [],
   "source": []
  },
  {
   "cell_type": "code",
   "execution_count": null,
   "id": "f61970ac",
   "metadata": {},
   "outputs": [],
   "source": []
  },
  {
   "cell_type": "code",
   "execution_count": null,
   "id": "e68dd825",
   "metadata": {},
   "outputs": [],
   "source": []
  },
  {
   "cell_type": "code",
   "execution_count": null,
   "id": "cb3c940d",
   "metadata": {},
   "outputs": [],
   "source": []
  },
  {
   "cell_type": "code",
   "execution_count": null,
   "id": "dba72f4c",
   "metadata": {},
   "outputs": [],
   "source": []
  },
  {
   "cell_type": "code",
   "execution_count": null,
   "id": "25a744e4",
   "metadata": {},
   "outputs": [],
   "source": []
  },
  {
   "cell_type": "code",
   "execution_count": null,
   "id": "bcfe9712",
   "metadata": {},
   "outputs": [],
   "source": []
  },
  {
   "cell_type": "code",
   "execution_count": null,
   "id": "aff2443e",
   "metadata": {},
   "outputs": [],
   "source": []
  },
  {
   "cell_type": "code",
   "execution_count": null,
   "id": "efa8cb30",
   "metadata": {},
   "outputs": [],
   "source": []
  },
  {
   "cell_type": "code",
   "execution_count": null,
   "id": "82a52b07",
   "metadata": {},
   "outputs": [],
   "source": []
  },
  {
   "cell_type": "code",
   "execution_count": null,
   "id": "96cab47e",
   "metadata": {},
   "outputs": [],
   "source": []
  },
  {
   "cell_type": "code",
   "execution_count": null,
   "id": "e5d0772e",
   "metadata": {},
   "outputs": [],
   "source": []
  },
  {
   "cell_type": "code",
   "execution_count": null,
   "id": "eb1ef85d",
   "metadata": {},
   "outputs": [],
   "source": []
  },
  {
   "cell_type": "code",
   "execution_count": null,
   "id": "5c4920f6",
   "metadata": {},
   "outputs": [],
   "source": []
  },
  {
   "cell_type": "code",
   "execution_count": 75,
   "id": "b17fe196",
   "metadata": {},
   "outputs": [],
   "source": [
    "#modèle autoregression"
   ]
  },
  {
   "cell_type": "code",
   "execution_count": 127,
   "id": "63112ef8",
   "metadata": {},
   "outputs": [
    {
     "name": "stdout",
     "output_type": "stream",
     "text": [
      "ADF: -7.2598211499700325\n",
      "P-Value: 1.6930124032892653e-10\n",
      "Num of lags: 58\n",
      "Num of observation used for ADF regression and critical values calculation: 52332\n",
      "Critical Values:\n",
      "\t 1% :  -3.43047496409059\n",
      "\t 5% :  -2.8615952316158593\n",
      "\t 10% :  -2.5667993979530026\n"
     ]
    }
   ],
   "source": [
    "dftest = adfuller(df['CO2'], autolag = \"AIC\")\n",
    "print('ADF:', dftest[0])\n",
    "print('P-Value:', dftest[1])\n",
    "print(\"Num of lags:\", dftest[2])\n",
    "print('Num of observation used for ADF regression and critical values calculation:', dftest[3])\n",
    "print('Critical Values:')\n",
    "for key, val in dftest[4].items():\n",
    "    print(\"\\t\", key, \": \", val)"
   ]
  },
  {
   "cell_type": "code",
   "execution_count": 128,
   "id": "e4650ce9",
   "metadata": {},
   "outputs": [
    {
     "data": {
      "image/png": "[encoded data removed]",
      "text/plain": [
       "<Figure size 640x480 with 1 Axes>"
      ]
     },
     "metadata": {},
     "output_type": "display_data"
    },
    {
     "data": {
      "image/png": "[encoded data removed]",
      "text/plain": [
       "<Figure size 640x480 with 1 Axes>"
      ]
     },
     "metadata": {},
     "output_type": "display_data"
    }
   ],
   "source": [
    "pacf=plot_pacf(df['CO2'], lags=25)\n",
    "acf= plot_acf(df['CO2'], lags=25)"
   ]
  },
  {
   "cell_type": "code",
   "execution_count": 99,
   "id": "23dde5a3",
   "metadata": {},
   "outputs": [],
   "source": [
    "X=df['CO2'].values\n",
    "train=X[:len(X)-365]\n",
    "test=X[len(X)-365:]"
   ]
  },
  {
   "cell_type": "code",
   "execution_count": 110,
   "id": "36404f20",
   "metadata": {},
   "outputs": [
    {
     "name": "stdout",
     "output_type": "stream",
     "text": [
      "                            AutoReg Model Results                             \n",
      "==============================================================================\n",
      "Dep. Variable:                      y   No. Observations:                52026\n",
      "Model:                    AutoReg(10)   Log Likelihood             -290800.251\n",
      "Method:               Conditional MLE   S.D. of innovations             64.823\n",
      "Date:                Mon, 07 Nov 2022   AIC                         581624.502\n",
      "Time:                        01:05:33   BIC                         581730.814\n",
      "Sample:                            10   HQIC                        581657.743\n",
      "                                52026                                         \n",
      "==============================================================================\n",
      "                 coef    std err          z      P>|z|      [0.025      0.975]\n",
      "------------------------------------------------------------------------------\n",
      "const         10.6949      0.551     19.399      0.000       9.614      11.776\n",
      "y.L1           0.9901      0.004    225.957      0.000       0.982       0.999\n",
      "y.L2          -0.0185      0.006     -3.000      0.003      -0.031      -0.006\n",
      "y.L3          -0.0644      0.006    -10.470      0.000      -0.077      -0.052\n",
      "y.L4           0.0401      0.006      6.508      0.000       0.028       0.052\n",
      "y.L5           0.0212      0.006      3.443      0.001       0.009       0.033\n",
      "y.L6          -0.0313      0.006     -5.078      0.000      -0.043      -0.019\n",
      "y.L7          -0.0611      0.006     -9.927      0.000      -0.073      -0.049\n",
      "y.L8           0.0483      0.006      7.845      0.000       0.036       0.060\n",
      "y.L9           0.0837      0.006     13.596      0.000       0.072       0.096\n",
      "y.L10         -0.0346      0.004     -7.888      0.000      -0.043      -0.026\n",
      "                                    Roots                                     \n",
      "==============================================================================\n",
      "                   Real          Imaginary           Modulus         Frequency\n",
      "------------------------------------------------------------------------------\n",
      "AR.1            -1.3605           -0.4472j            1.4321           -0.4495\n",
      "AR.2            -1.3605           +0.4472j            1.4321            0.4495\n",
      "AR.3            -0.7218           -1.1660j            1.3714           -0.3382\n",
      "AR.4            -0.7218           +1.1660j            1.3714            0.3382\n",
      "AR.5             0.3202           -1.2374j            1.2781           -0.2097\n",
      "AR.6             0.3202           +1.2374j            1.2781            0.2097\n",
      "AR.7             1.0214           -0.0000j            1.0214           -0.0000\n",
      "AR.8             1.1266           -0.6429j            1.2972           -0.0825\n",
      "AR.9             1.1266           +0.6429j            1.2972            0.0825\n",
      "AR.10            2.6713           -0.0000j            2.6713           -0.0000\n",
      "------------------------------------------------------------------------------\n"
     ]
    }
   ],
   "source": [
    "model= AutoReg(train, lags=10).fit()\n",
    "print(model.summary())"
   ]
  },
  {
   "cell_type": "code",
   "execution_count": 111,
   "id": "0bf9a064",
   "metadata": {},
   "outputs": [
    {
     "name": "stdout",
     "output_type": "stream",
     "text": [
      "52026\n"
     ]
    }
   ],
   "source": [
    "print(len(train))"
   ]
  },
  {
   "cell_type": "code",
   "execution_count": 112,
   "id": "fe29b04f",
   "metadata": {},
   "outputs": [],
   "source": [
    "pred=model.predict(start=len(train), end=len(X)-1, dynamic=False)"
   ]
  },
  {
   "cell_type": "code",
   "execution_count": 113,
   "id": "98d58d9a",
   "metadata": {},
   "outputs": [
    {
     "name": "stdout",
     "output_type": "stream",
     "text": [
      "[ 10.69493863  21.28445168  31.57199154  40.87332086  49.6389489\n",
      "  58.13426228  66.08671573  72.8451259   78.93857696  85.34799566\n",
      "  91.81593452  98.29142415 104.63650737 110.89381062 117.1385814\n",
      " 123.31951203 129.30362348 135.08561281 140.72873675 146.25301149\n",
      " 151.6640297  156.94912962 162.11606446 167.1851662  172.16291752\n",
      " 177.04036789 181.81307619 186.48387078 191.05719184 195.53550427\n",
      " 199.91829296 204.20668744 208.40432735 212.51461232 216.53930064\n",
      " 220.47959609 224.3370789  228.11378062 231.8115937  235.43193562\n",
      " 238.97615822 242.44585149 245.84271301 249.16833179 252.42416455\n",
      " 255.61163605 258.73220737 261.78732896 264.7783785  267.70667462\n",
      " 270.5735185  273.38020471 276.12800396 278.81814986 281.45184484\n",
      " 284.03027189 286.5545952  289.02595336 291.4454571  293.81419263\n",
      " 296.13322509 298.40359848 300.6263342  302.80243112 304.93286719\n",
      " 307.01860056 309.06056959 311.05969268 313.01686869 314.93297769\n",
      " 316.80888147 318.64542377 320.44343049 322.20371014 323.92705431\n",
      " 325.61423803 327.26602006 328.88314323 330.46633474 332.01630657\n",
      " 333.53375578 335.01936478 336.47380167 337.89772052 339.29176167\n",
      " 340.65655205 341.99270542 343.30082266 344.58149204 345.8352895\n",
      " 347.06277888 348.26451219 349.44102986 350.592861   351.72052359\n",
      " 352.82452475 353.90536096 354.96351829 355.9994726  357.01368978\n",
      " 358.00662592 358.97872756 359.93043186 360.86216682 361.77435145\n",
      " 362.66739596 363.54170197 364.39766266 365.23566297 366.05607975\n",
      " 366.85928196 367.6456308  368.41547991 369.16917549 369.90705648\n",
      " 370.62945473 371.33669509 372.02909563 372.70696772 373.37061622\n",
      " 374.02033956 374.65642994 375.27917342 375.88885004 376.48573399\n",
      " 377.07009369 377.64219193 378.202286   378.75062778 379.28746385\n",
      " 379.81303564 380.3275795  380.83132684 381.32450418 381.80733333\n",
      " 382.2800314  382.74281099 383.1958802  383.63944279 384.07369822\n",
      " 384.4988418  384.91506471 385.32255413 385.72149331 386.11206167\n",
      " 386.49443484 386.86878478 387.23527984 387.59408484 387.94536113\n",
      " 388.28926669 388.62595618 388.95558101 389.27828941 389.59422651\n",
      " 389.90353439 390.20635215 390.50281597 390.79305918 391.07721229\n",
      " 391.3554031  391.62775671 391.89439559 392.15543967 392.41100634\n",
      " 392.66121052 392.90616474 393.14597915 393.3807616  393.61061768\n",
      " 393.83565075 394.05596202 394.27165056 394.48281336 394.6895454\n",
      " 394.89193964 395.09008709 395.28407687 395.47399622 395.65993055\n",
      " 395.84196346 396.02017683 396.1946508  396.36546383 396.53269274\n",
      " 396.69641274 396.85669744 397.01361893 397.16724778 397.31765309\n",
      " 397.46490248 397.60906217 397.75019701 397.88837045 398.02364464\n",
      " 398.1560804  398.28573731 398.41267366 398.53694654 398.65861184\n",
      " 398.77772427 398.89433739 399.00850366 399.1202744  399.2296999\n",
      " 399.33682934 399.44171093 399.54439181 399.64491816 399.7433352\n",
      " 399.83968719 399.93401744 400.02636839 400.11678157 400.20529763\n",
      " 400.29195639 400.3767968  400.45985704 400.54117445 400.62078559\n",
      " 400.69872628 400.77503156 400.84973575 400.92287244 400.99447452\n",
      " 401.0645742  401.133203   401.20039177 401.26617075 401.3305695\n",
      " 401.39361699 401.45534157 401.51577101 401.57493247 401.63285256\n",
      " 401.68955733 401.74507228 401.79942237 401.85263206 401.90472525\n",
      " 401.9557254  402.00565542 402.05453777 402.10239444 402.14924694\n",
      " 402.19511635 402.2400233  402.28398798 402.32703016 402.36916919\n",
      " 402.41042404 402.45081325 402.49035498 402.52906701 402.56696677\n",
      " 402.60407128 402.64039724 402.67596099 402.7107785  402.74486546\n",
      " 402.77823717 402.81090866 402.84289461 402.87420941 402.90486714\n",
      " 402.93488158 402.96426624 402.99303433 403.02119879 403.04877228\n",
      " 403.07576721 403.1021957  403.12806966 403.15340071 403.17820024\n",
      " 403.20247942 403.22624915 403.24952013 403.27230281 403.29460746\n",
      " 403.31644409 403.33782253 403.3587524  403.3792431  403.39930385\n",
      " 403.41894366 403.43817139 403.45699566 403.47542495 403.49346754\n",
      " 403.51113155 403.52842492 403.54535542 403.56193068 403.57815815\n",
      " 403.59404512 403.60959873 403.62482599 403.63973375 403.65432869\n",
      " 403.6686174  403.68260628 403.69630165 403.70970964 403.72283631\n",
      " 403.73568753 403.74826911 403.76058669 403.77264581 403.7844519\n",
      " 403.79601026 403.8073261  403.81840451 403.82925045 403.83986882\n",
      " 403.85026439 403.86044183 403.87040572 403.88016054 403.88971068\n",
      " 403.89906043 403.908214   403.9171755  403.92594896 403.93453833\n",
      " 403.94294747 403.95118017 403.95924012 403.96713096 403.97485622\n",
      " 403.98241938 403.98982385 403.99707296 404.00416995 404.01111804\n",
      " 404.01792033 404.02457989 404.03109972 404.03748274 404.04373183\n",
      " 404.0498498  404.0558394  404.06170331 404.06744419 404.07306461\n",
      " 404.07856709 404.08395412 404.08922812 404.09439145 404.09944644\n",
      " 404.10439536 404.10924044 404.11398386 404.11862775 404.1231742\n",
      " 404.12762525 404.1319829  404.13624912 404.14042583 404.14451489\n",
      " 404.14851816 404.15243742 404.15627445 404.16003097 404.16370866]\n"
     ]
    },
    {
     "data": {
      "image/png": "[encoded data removed]",
      "text/plain": [
       "<Figure size 640x480 with 1 Axes>"
      ]
     },
     "metadata": {},
     "output_type": "display_data"
    }
   ],
   "source": [
    "plt.plot(pred)\n",
    "plt.plot(test, color='red')\n",
    "print(pred)"
   ]
  },
  {
   "cell_type": "code",
   "execution_count": 114,
   "id": "abe98861",
   "metadata": {},
   "outputs": [],
   "source": [
    "#Calculate error\n",
    "from math import sqrt\n",
    "from sklearn.metrics import mean_squared_error\n",
    "\n",
    "\n",
    "rmse= sqrt(mean_squared_error(test, pred))"
   ]
  },
  {
   "cell_type": "code",
   "execution_count": 115,
   "id": "95871372",
   "metadata": {},
   "outputs": [
    {
     "name": "stdout",
     "output_type": "stream",
     "text": [
      "184.10671604570706\n"
     ]
    }
   ],
   "source": [
    "print(rmse)"
   ]
  },
  {
   "cell_type": "code",
   "execution_count": 116,
   "id": "565b6005",
   "metadata": {},
   "outputs": [
    {
     "name": "stdout",
     "output_type": "stream",
     "text": [
      "the future prediction for the next year\n",
      "[404.17083417 404.17428518 404.17766378 404.1809715  404.1842098\n",
      " 404.18738016 404.19048399 404.1935227  404.19649765 404.19941017\n",
      " 404.20226159 404.20505317 404.20778618 404.21046184 404.21308135\n",
      " 404.21564591 404.21815665 404.22061471 404.22302119 404.22537718\n",
      " 404.22768374 404.22994189 404.23215267 404.23431705 404.23643602\n",
      " 404.23851053 404.24054151 404.24252988 404.24447652 404.24638232\n",
      " 404.24824813 404.25007479 404.25186312 404.25361393 404.255328\n",
      " 404.2570061  404.25864899 404.26025741 404.26183209 404.26337372\n",
      " 404.264883   404.26636061 404.26780722 404.26922348 404.27061002\n",
      " 404.27196747 404.27329643 404.27459751 404.27587128 404.27711833\n",
      " 404.27833922 404.27953449 404.28070467 404.2818503  404.2829719\n",
      " 404.28406996 404.28514498 404.28619744 404.28722782 404.28823658\n",
      " 404.28922417 404.29019104 404.29113763 404.29206435 404.29297162\n",
      " 404.29385986 404.29472946 404.29558082 404.29641431 404.29723031\n",
      " 404.29802919 404.29881131 404.29957701 404.30032665 404.30106056\n",
      " 404.30177907 404.30248251 404.30317118 404.30384541 404.30450548\n",
      " 404.30515171 404.30578438 404.30640377 404.30701017 404.30760384\n",
      " 404.30818505 404.30875407 404.30931115 404.30985654 404.31039049\n",
      " 404.31091323 404.31142501 404.31192605 404.31241657 404.3128968\n",
      " 404.31336695 404.31382724 404.31427787 404.31471905 404.31515097\n",
      " 404.31557382 404.31598781 404.3163931  404.3167899  404.31717836\n",
      " 404.31755868 404.31793101 404.31829554 404.31865241 404.3190018\n",
      " 404.31934385 404.31967873 404.32000658 404.32032755 404.32064179\n",
      " 404.32094943 404.32125062 404.32154549 404.32183417 404.32211679\n",
      " 404.32239349 404.32266438 404.32292958 404.32318922 404.32344341\n",
      " 404.32369227 404.3239359  404.32417443 404.32440795 404.32463657\n",
      " 404.32486039 404.32507951 404.32529404 404.32550407 404.32570969\n",
      " 404.32591099 404.32610807 404.32630102 404.32648992 404.32667485\n",
      " 404.3268559  404.32703316 404.32720669 404.32737659 404.32754292\n",
      " 404.32770575 404.32786518 404.32802125 404.32817406 404.32832365\n",
      " 404.32847011 404.32861349 404.32875387 404.3288913  404.32902584\n",
      " 404.32915757 404.32928653 404.32941278 404.32953638 404.32965739\n",
      " 404.32977587 404.32989185 404.3300054  404.33011657 404.33022541\n",
      " 404.33033196 404.33043628 404.33053841 404.33063839 404.33073628\n",
      " 404.33083211 404.33092594 404.33101779 404.33110772 404.33119576\n",
      " 404.33128195 404.33136633 404.33144895 404.33152983 404.33160901\n",
      " 404.33168653 404.33176243 404.33183673 404.33190947 404.33198069\n",
      " 404.33205041 404.33211867 404.3321855  404.33225092 404.33231497\n",
      " 404.33237768 404.33243907 404.33249918 404.33255802 404.33261563\n",
      " 404.33267203 404.33272725 404.3327813  404.33283423 404.33288604\n",
      " 404.33293677 404.33298643 404.33303505 404.33308265 404.33312925\n",
      " 404.33317487 404.33321953 404.33326326 404.33330607 404.33334798\n",
      " 404.33338902 404.33342919 404.33346852 404.33350702 404.33354472\n",
      " 404.33358162 404.33361775 404.33365312 404.33368776 404.33372166\n",
      " 404.33375485 404.33378735 404.33381916 404.33385031 404.3338808\n",
      " 404.33391065 404.33393988 404.33396849 404.3339965  404.33402393\n",
      " 404.33405078 404.33407707 404.3341028  404.334128   404.33415266\n",
      " 404.33417681 404.33420045 404.3342236  404.33424626 404.33426844\n",
      " 404.33429016 404.33431142 404.33433224 404.33435262 404.33437258\n",
      " 404.33439211 404.33441123 404.33442996 404.33444829 404.33446623\n",
      " 404.3344838  404.334501   404.33451784 404.33453433 404.33455047\n",
      " 404.33456627 404.33458174 404.33459688 404.33461171 404.33462623\n",
      " 404.33464044 404.33465435 404.33466797 404.33468131 404.33469437\n",
      " 404.33470715 404.33471966 404.33473191 404.33474391 404.33475565\n",
      " 404.33476715 404.3347784  404.33478942 404.33480021 404.33481077\n",
      " 404.33482111 404.33483123 404.33484114 404.33485084 404.33486034\n",
      " 404.33486964 404.33487875 404.33488766 404.33489639 404.33490493\n",
      " 404.33491329 404.33492148 404.3349295  404.33493735 404.33494503\n",
      " 404.33495255 404.33495992 404.33496713 404.33497419 404.3349811\n",
      " 404.33498786 404.33499449 404.33500097 404.33500732 404.33501354\n",
      " 404.33501962 404.33502558 404.33503141 404.33503712 404.33504271\n",
      " 404.33504818 404.33505354 404.33505879 404.33506392 404.33506895\n",
      " 404.33507387 404.33507869 404.33508341 404.33508803 404.33509255\n",
      " 404.33509698 404.33510131 404.33510555 404.33510971 404.33511378\n",
      " 404.33511776 404.33512166 404.33512547 404.33512921 404.33513287\n",
      " 404.33513645 404.33513995 404.33514339 404.33514675 404.33515004\n",
      " 404.33515326 404.33515641 404.3351595  404.33516252 404.33516548\n",
      " 404.33516838 404.33517121 404.33517399 404.33517671 404.33517937\n",
      " 404.33518197 404.33518452 404.33518702 404.33518947 404.33519186\n",
      " 404.3351942  404.3351965  404.33519874 404.33520094 404.33520309\n",
      " 404.3352052  404.33520727 404.33520929 404.33521126 404.3352132\n",
      " 404.3352151  404.33521695 404.33521877 404.33522055 404.33522229\n",
      " 404.33522399 404.33522566 404.3352273  404.3352289  404.33523046]\n",
      "Number of predictions made: \t 365\n"
     ]
    }
   ],
   "source": [
    "pred_future=model.predict(start=len(X)+1, end=len(X)+365, dynamic=False)\n",
    "print(\"the future prediction for the next year\")\n",
    "print(pred_future)\n",
    "print('Number of predictions made: \\t', len(pred_future))"
   ]
  },
  {
   "cell_type": "code",
   "execution_count": null,
   "id": "b0ef7499",
   "metadata": {},
   "outputs": [],
   "source": []
  },
  {
   "cell_type": "code",
   "execution_count": null,
   "id": "79afce8e",
   "metadata": {},
   "outputs": [],
   "source": [
    "#model ARIMA"
   ]
  },
  {
   "cell_type": "code",
   "execution_count": 46,
   "id": "a31e4d50",
   "metadata": {},
   "outputs": [
    {
     "name": "stdout",
     "output_type": "stream",
     "text": [
      "Performing stepwise search to minimize aic\n",
      " ARIMA(2,1,2)(0,0,0)[0] intercept   : AIC=25632.500, Time=1.74 sec\n",
      " ARIMA(0,1,0)(0,0,0)[0] intercept   : AIC=25936.225, Time=0.04 sec\n",
      " ARIMA(1,1,0)(0,0,0)[0] intercept   : AIC=25823.768, Time=0.10 sec\n",
      " ARIMA(0,1,1)(0,0,0)[0] intercept   : AIC=25760.276, Time=0.17 sec\n",
      " ARIMA(0,1,0)(0,0,0)[0]             : AIC=25934.226, Time=0.03 sec\n",
      " ARIMA(1,1,2)(0,0,0)[0] intercept   : AIC=25635.611, Time=0.91 sec\n",
      " ARIMA(2,1,1)(0,0,0)[0] intercept   : AIC=25635.646, Time=0.93 sec\n",
      " ARIMA(3,1,2)(0,0,0)[0] intercept   : AIC=25634.501, Time=1.54 sec\n",
      " ARIMA(2,1,3)(0,0,0)[0] intercept   : AIC=25634.494, Time=2.38 sec\n",
      " ARIMA(1,1,1)(0,0,0)[0] intercept   : AIC=25634.321, Time=0.61 sec\n",
      " ARIMA(1,1,3)(0,0,0)[0] intercept   : AIC=25637.227, Time=1.46 sec\n",
      " ARIMA(3,1,1)(0,0,0)[0] intercept   : AIC=25637.432, Time=1.25 sec\n",
      " ARIMA(3,1,3)(0,0,0)[0] intercept   : AIC=25622.536, Time=3.61 sec\n",
      " ARIMA(4,1,3)(0,0,0)[0] intercept   : AIC=25618.407, Time=2.34 sec\n",
      " ARIMA(4,1,2)(0,0,0)[0] intercept   : AIC=25634.348, Time=2.22 sec\n",
      " ARIMA(5,1,3)(0,0,0)[0] intercept   : AIC=inf, Time=6.46 sec\n",
      " ARIMA(4,1,4)(0,0,0)[0] intercept   : AIC=25608.191, Time=5.44 sec\n",
      " ARIMA(3,1,4)(0,0,0)[0] intercept   : AIC=25619.076, Time=4.78 sec\n",
      " ARIMA(5,1,4)(0,0,0)[0] intercept   : AIC=25619.835, Time=4.33 sec\n",
      " ARIMA(4,1,5)(0,0,0)[0] intercept   : AIC=25617.223, Time=4.73 sec\n",
      " ARIMA(3,1,5)(0,0,0)[0] intercept   : AIC=25615.850, Time=4.34 sec\n",
      " ARIMA(5,1,5)(0,0,0)[0] intercept   : AIC=25616.373, Time=5.28 sec\n",
      " ARIMA(4,1,4)(0,0,0)[0]             : AIC=25606.222, Time=2.60 sec\n",
      " ARIMA(3,1,4)(0,0,0)[0]             : AIC=25617.023, Time=2.18 sec\n",
      " ARIMA(4,1,3)(0,0,0)[0]             : AIC=25615.973, Time=1.87 sec\n",
      " ARIMA(5,1,4)(0,0,0)[0]             : AIC=25617.840, Time=2.36 sec\n",
      " ARIMA(4,1,5)(0,0,0)[0]             : AIC=25615.227, Time=2.50 sec\n",
      " ARIMA(3,1,3)(0,0,0)[0]             : AIC=25620.552, Time=1.82 sec\n",
      " ARIMA(3,1,5)(0,0,0)[0]             : AIC=25613.854, Time=2.31 sec\n",
      " ARIMA(5,1,3)(0,0,0)[0]             : AIC=25608.625, Time=2.63 sec\n",
      " ARIMA(5,1,5)(0,0,0)[0]             : AIC=25614.379, Time=2.71 sec\n",
      "\n",
      "Best model:  ARIMA(4,1,4)(0,0,0)[0]          \n",
      "Total fit time: 75.720 seconds\n"
     ]
    },
    {
     "data": {
      "text/html": [
       "<table class=\"simpletable\">\n",
       "<caption>SARIMAX Results</caption>\n",
       "<tr>\n",
       "  <th>Dep. Variable:</th>           <td>y</td>        <th>  No. Observations:  </th>    <td>2187</td>   \n",
       "</tr>\n",
       "<tr>\n",
       "  <th>Model:</th>           <td>SARIMAX(4, 1, 4)</td> <th>  Log Likelihood     </th> <td>-12794.111</td>\n",
       "</tr>\n",
       "<tr>\n",
       "  <th>Date:</th>            <td>Mon, 07 Nov 2022</td> <th>  AIC                </th>  <td>25606.222</td>\n",
       "</tr>\n",
       "<tr>\n",
       "  <th>Time:</th>                <td>00:38:15</td>     <th>  BIC                </th>  <td>25657.431</td>\n",
       "</tr>\n",
       "<tr>\n",
       "  <th>Sample:</th>                  <td>0</td>        <th>  HQIC               </th>  <td>25624.940</td>\n",
       "</tr>\n",
       "<tr>\n",
       "  <th></th>                      <td> - 2187</td>     <th>                     </th>      <td> </td>    \n",
       "</tr>\n",
       "<tr>\n",
       "  <th>Covariance Type:</th>        <td>opg</td>       <th>                     </th>      <td> </td>    \n",
       "</tr>\n",
       "</table>\n",
       "<table class=\"simpletable\">\n",
       "<tr>\n",
       "     <td></td>       <th>coef</th>     <th>std err</th>      <th>z</th>      <th>P>|z|</th>  <th>[0.025</th>    <th>0.975]</th>  \n",
       "</tr>\n",
       "<tr>\n",
       "  <th>ar.L1</th>  <td>   -0.8555</td> <td>    0.028</td> <td>  -30.421</td> <td> 0.000</td> <td>   -0.911</td> <td>   -0.800</td>\n",
       "</tr>\n",
       "<tr>\n",
       "  <th>ar.L2</th>  <td>   -0.6245</td> <td>    0.027</td> <td>  -23.286</td> <td> 0.000</td> <td>   -0.677</td> <td>   -0.572</td>\n",
       "</tr>\n",
       "<tr>\n",
       "  <th>ar.L3</th>  <td>   -0.1695</td> <td>    0.030</td> <td>   -5.647</td> <td> 0.000</td> <td>   -0.228</td> <td>   -0.111</td>\n",
       "</tr>\n",
       "<tr>\n",
       "  <th>ar.L4</th>  <td>    0.5438</td> <td>    0.018</td> <td>   30.031</td> <td> 0.000</td> <td>    0.508</td> <td>    0.579</td>\n",
       "</tr>\n",
       "<tr>\n",
       "  <th>ma.L1</th>  <td>    0.5268</td> <td>    0.028</td> <td>   19.010</td> <td> 0.000</td> <td>    0.473</td> <td>    0.581</td>\n",
       "</tr>\n",
       "<tr>\n",
       "  <th>ma.L2</th>  <td>    0.1794</td> <td>    0.022</td> <td>    8.101</td> <td> 0.000</td> <td>    0.136</td> <td>    0.223</td>\n",
       "</tr>\n",
       "<tr>\n",
       "  <th>ma.L3</th>  <td>   -0.2683</td> <td>    0.024</td> <td>  -11.220</td> <td> 0.000</td> <td>   -0.315</td> <td>   -0.221</td>\n",
       "</tr>\n",
       "<tr>\n",
       "  <th>ma.L4</th>  <td>   -0.8188</td> <td>    0.022</td> <td>  -37.232</td> <td> 0.000</td> <td>   -0.862</td> <td>   -0.776</td>\n",
       "</tr>\n",
       "<tr>\n",
       "  <th>sigma2</th> <td> 7205.0169</td> <td>   81.372</td> <td>   88.545</td> <td> 0.000</td> <td> 7045.532</td> <td> 7364.502</td>\n",
       "</tr>\n",
       "</table>\n",
       "<table class=\"simpletable\">\n",
       "<tr>\n",
       "  <th>Ljung-Box (L1) (Q):</th>     <td>0.01</td> <th>  Jarque-Bera (JB):  </th> <td>29263.69</td>\n",
       "</tr>\n",
       "<tr>\n",
       "  <th>Prob(Q):</th>                <td>0.94</td> <th>  Prob(JB):          </th>   <td>0.00</td>  \n",
       "</tr>\n",
       "<tr>\n",
       "  <th>Heteroskedasticity (H):</th> <td>0.24</td> <th>  Skew:              </th>   <td>-1.23</td> \n",
       "</tr>\n",
       "<tr>\n",
       "  <th>Prob(H) (two-sided):</th>    <td>0.00</td> <th>  Kurtosis:          </th>   <td>20.76</td> \n",
       "</tr>\n",
       "</table><br/><br/>Warnings:<br/>[1] Covariance matrix calculated using the outer product of gradients (complex-step)."
      ],
      "text/plain": [
       "<class 'statsmodels.iolib.summary.Summary'>\n",
       "\"\"\"\n",
       "                               SARIMAX Results                                \n",
       "==============================================================================\n",
       "Dep. Variable:                      y   No. Observations:                 2187\n",
       "Model:               SARIMAX(4, 1, 4)   Log Likelihood              -12794.111\n",
       "Date:                Mon, 07 Nov 2022   AIC                          25606.222\n",
       "Time:                        00:38:15   BIC                          25657.431\n",
       "Sample:                             0   HQIC                         25624.940\n",
       "                               - 2187                                         \n",
       "Covariance Type:                  opg                                         \n",
       "==============================================================================\n",
       "                 coef    std err          z      P>|z|      [0.025      0.975]\n",
       "------------------------------------------------------------------------------\n",
       "ar.L1         -0.8555      0.028    -30.421      0.000      -0.911      -0.800\n",
       "ar.L2         -0.6245      0.027    -23.286      0.000      -0.677      -0.572\n",
       "ar.L3         -0.1695      0.030     -5.647      0.000      -0.228      -0.111\n",
       "ar.L4          0.5438      0.018     30.031      0.000       0.508       0.579\n",
       "ma.L1          0.5268      0.028     19.010      0.000       0.473       0.581\n",
       "ma.L2          0.1794      0.022      8.101      0.000       0.136       0.223\n",
       "ma.L3         -0.2683      0.024    -11.220      0.000      -0.315      -0.221\n",
       "ma.L4         -0.8188      0.022    -37.232      0.000      -0.862      -0.776\n",
       "sigma2      7205.0169     81.372     88.545      0.000    7045.532    7364.502\n",
       "===================================================================================\n",
       "Ljung-Box (L1) (Q):                   0.01   Jarque-Bera (JB):             29263.69\n",
       "Prob(Q):                              0.94   Prob(JB):                         0.00\n",
       "Heteroskedasticity (H):               0.24   Skew:                            -1.23\n",
       "Prob(H) (two-sided):                  0.00   Kurtosis:                        20.76\n",
       "===================================================================================\n",
       "\n",
       "Warnings:\n",
       "[1] Covariance matrix calculated using the outer product of gradients (complex-step).\n",
       "\"\"\""
      ]
     },
     "execution_count": 46,
     "metadata": {},
     "output_type": "execute_result"
    }
   ],
   "source": [
    "from pmdarima import auto_arima\n",
    "\n",
    "stepwise_fit = auto_arima(df['CO2'], trace=True)\n",
    "stepwise_fit.summary()"
   ]
  },
  {
   "cell_type": "code",
   "execution_count": 141,
   "id": "2f0e9668",
   "metadata": {},
   "outputs": [
    {
     "name": "stderr",
     "output_type": "stream",
     "text": [
      "C:\\Users\\joshn\\AppData\\Roaming\\Python\\Python39\\site-packages\\statsmodels\\tsa\\base\\tsa_model.py:471: ValueWarning: An unsupported index was provided and will be ignored when e.g. forecasting.\n",
      "  self._init_dates(dates, freq)\n",
      "C:\\Users\\joshn\\AppData\\Roaming\\Python\\Python39\\site-packages\\statsmodels\\tsa\\base\\tsa_model.py:471: ValueWarning: An unsupported index was provided and will be ignored when e.g. forecasting.\n",
      "  self._init_dates(dates, freq)\n",
      "C:\\Users\\joshn\\AppData\\Roaming\\Python\\Python39\\site-packages\\statsmodels\\tsa\\base\\tsa_model.py:471: ValueWarning: An unsupported index was provided and will be ignored when e.g. forecasting.\n",
      "  self._init_dates(dates, freq)\n",
      "C:\\Users\\joshn\\AppData\\Roaming\\Python\\Python39\\site-packages\\statsmodels\\tsa\\statespace\\sarimax.py:966: UserWarning: Non-stationary starting autoregressive parameters found. Using zeros as starting parameters.\n",
      "  warn('Non-stationary starting autoregressive parameters'\n",
      "C:\\Users\\joshn\\AppData\\Roaming\\Python\\Python39\\site-packages\\statsmodels\\tsa\\statespace\\sarimax.py:978: UserWarning: Non-invertible starting MA parameters found. Using zeros as starting parameters.\n",
      "  warn('Non-invertible starting MA parameters found.'\n",
      "C:\\Users\\joshn\\AppData\\Roaming\\Python\\Python39\\site-packages\\statsmodels\\base\\model.py:604: ConvergenceWarning: Maximum Likelihood optimization failed to converge. Check mle_retvals\n",
      "  warnings.warn(\"Maximum Likelihood optimization failed to \"\n"
     ]
    },
    {
     "data": {
      "text/html": [
       "<table class=\"simpletable\">\n",
       "<caption>SARIMAX Results</caption>\n",
       "<tr>\n",
       "  <th>Dep. Variable:</th>          <td>CO2</td>       <th>  No. Observations:  </th>    <td>43631</td>   \n",
       "</tr>\n",
       "<tr>\n",
       "  <th>Model:</th>            <td>ARIMA(4, 1, 4)</td>  <th>  Log Likelihood     </th> <td>-243797.701</td>\n",
       "</tr>\n",
       "<tr>\n",
       "  <th>Date:</th>            <td>Mon, 07 Nov 2022</td> <th>  AIC                </th> <td>487613.402</td> \n",
       "</tr>\n",
       "<tr>\n",
       "  <th>Time:</th>                <td>01:22:23</td>     <th>  BIC                </th> <td>487691.553</td> \n",
       "</tr>\n",
       "<tr>\n",
       "  <th>Sample:</th>                  <td>0</td>        <th>  HQIC               </th> <td>487638.038</td> \n",
       "</tr>\n",
       "<tr>\n",
       "  <th></th>                     <td> - 43631</td>     <th>                     </th>      <td> </td>     \n",
       "</tr>\n",
       "<tr>\n",
       "  <th>Covariance Type:</th>        <td>opg</td>       <th>                     </th>      <td> </td>     \n",
       "</tr>\n",
       "</table>\n",
       "<table class=\"simpletable\">\n",
       "<tr>\n",
       "     <td></td>       <th>coef</th>     <th>std err</th>      <th>z</th>      <th>P>|z|</th>  <th>[0.025</th>    <th>0.975]</th>  \n",
       "</tr>\n",
       "<tr>\n",
       "  <th>ar.L1</th>  <td>    0.4279</td> <td>    0.012</td> <td>   36.442</td> <td> 0.000</td> <td>    0.405</td> <td>    0.451</td>\n",
       "</tr>\n",
       "<tr>\n",
       "  <th>ar.L2</th>  <td>   -0.0788</td> <td>    0.016</td> <td>   -5.024</td> <td> 0.000</td> <td>   -0.110</td> <td>   -0.048</td>\n",
       "</tr>\n",
       "<tr>\n",
       "  <th>ar.L3</th>  <td>   -0.5293</td> <td>    0.016</td> <td>  -32.244</td> <td> 0.000</td> <td>   -0.562</td> <td>   -0.497</td>\n",
       "</tr>\n",
       "<tr>\n",
       "  <th>ar.L4</th>  <td>    0.8528</td> <td>    0.010</td> <td>   86.264</td> <td> 0.000</td> <td>    0.833</td> <td>    0.872</td>\n",
       "</tr>\n",
       "<tr>\n",
       "  <th>ma.L1</th>  <td>   -0.5100</td> <td>    0.012</td> <td>  -42.284</td> <td> 0.000</td> <td>   -0.534</td> <td>   -0.486</td>\n",
       "</tr>\n",
       "<tr>\n",
       "  <th>ma.L2</th>  <td>    0.0026</td> <td>    0.018</td> <td>    0.149</td> <td> 0.882</td> <td>   -0.032</td> <td>    0.037</td>\n",
       "</tr>\n",
       "<tr>\n",
       "  <th>ma.L3</th>  <td>    0.4555</td> <td>    0.018</td> <td>   25.695</td> <td> 0.000</td> <td>    0.421</td> <td>    0.490</td>\n",
       "</tr>\n",
       "<tr>\n",
       "  <th>ma.L4</th>  <td>   -0.9048</td> <td>    0.012</td> <td>  -77.504</td> <td> 0.000</td> <td>   -0.928</td> <td>   -0.882</td>\n",
       "</tr>\n",
       "<tr>\n",
       "  <th>sigma2</th> <td> 4335.5141</td> <td>    8.420</td> <td>  514.925</td> <td> 0.000</td> <td> 4319.012</td> <td> 4352.016</td>\n",
       "</tr>\n",
       "</table>\n",
       "<table class=\"simpletable\">\n",
       "<tr>\n",
       "  <th>Ljung-Box (L1) (Q):</th>     <td>184.04</td> <th>  Jarque-Bera (JB):  </th> <td>2854877.18</td>\n",
       "</tr>\n",
       "<tr>\n",
       "  <th>Prob(Q):</th>                 <td>0.00</td>  <th>  Prob(JB):          </th>    <td>0.00</td>   \n",
       "</tr>\n",
       "<tr>\n",
       "  <th>Heteroskedasticity (H):</th>  <td>0.84</td>  <th>  Skew:              </th>    <td>0.37</td>   \n",
       "</tr>\n",
       "<tr>\n",
       "  <th>Prob(H) (two-sided):</th>     <td>0.00</td>  <th>  Kurtosis:          </th>    <td>42.62</td>  \n",
       "</tr>\n",
       "</table><br/><br/>Warnings:<br/>[1] Covariance matrix calculated using the outer product of gradients (complex-step)."
      ],
      "text/plain": [
       "<class 'statsmodels.iolib.summary.Summary'>\n",
       "\"\"\"\n",
       "                               SARIMAX Results                                \n",
       "==============================================================================\n",
       "Dep. Variable:                    CO2   No. Observations:                43631\n",
       "Model:                 ARIMA(4, 1, 4)   Log Likelihood             -243797.701\n",
       "Date:                Mon, 07 Nov 2022   AIC                         487613.402\n",
       "Time:                        01:22:23   BIC                         487691.553\n",
       "Sample:                             0   HQIC                        487638.038\n",
       "                              - 43631                                         \n",
       "Covariance Type:                  opg                                         \n",
       "==============================================================================\n",
       "                 coef    std err          z      P>|z|      [0.025      0.975]\n",
       "------------------------------------------------------------------------------\n",
       "ar.L1          0.4279      0.012     36.442      0.000       0.405       0.451\n",
       "ar.L2         -0.0788      0.016     -5.024      0.000      -0.110      -0.048\n",
       "ar.L3         -0.5293      0.016    -32.244      0.000      -0.562      -0.497\n",
       "ar.L4          0.8528      0.010     86.264      0.000       0.833       0.872\n",
       "ma.L1         -0.5100      0.012    -42.284      0.000      -0.534      -0.486\n",
       "ma.L2          0.0026      0.018      0.149      0.882      -0.032       0.037\n",
       "ma.L3          0.4555      0.018     25.695      0.000       0.421       0.490\n",
       "ma.L4         -0.9048      0.012    -77.504      0.000      -0.928      -0.882\n",
       "sigma2      4335.5141      8.420    514.925      0.000    4319.012    4352.016\n",
       "===================================================================================\n",
       "Ljung-Box (L1) (Q):                 184.04   Jarque-Bera (JB):           2854877.18\n",
       "Prob(Q):                              0.00   Prob(JB):                         0.00\n",
       "Heteroskedasticity (H):               0.84   Skew:                             0.37\n",
       "Prob(H) (two-sided):                  0.00   Kurtosis:                        42.62\n",
       "===================================================================================\n",
       "\n",
       "Warnings:\n",
       "[1] Covariance matrix calculated using the outer product of gradients (complex-step).\n",
       "\"\"\""
      ]
     },
     "execution_count": 141,
     "metadata": {},
     "output_type": "execute_result"
    }
   ],
   "source": [
    "model=ARIMA(train_data, order=(4, 1, 4))\n",
    "model=model.fit()\n",
    "model.summary()"
   ]
  },
  {
   "cell_type": "code",
   "execution_count": 163,
   "id": "c2dd219b",
   "metadata": {},
   "outputs": [
    {
     "name": "stdout",
     "output_type": "stream",
     "text": [
      "2022-12-01    526.970807\n",
      "2022-12-02    515.088035\n",
      "2022-12-03    523.060057\n",
      "2022-12-04    513.066241\n",
      "2022-12-05    520.624110\n",
      "2022-12-06    510.941785\n",
      "2022-12-07    517.723829\n",
      "2022-12-08    509.442593\n",
      "2022-12-09    516.390771\n",
      "2022-12-10    508.706318\n",
      "2022-12-11    514.557527\n",
      "2022-12-12    507.422905\n",
      "2022-12-13    513.438352\n",
      "2022-12-14    507.365810\n",
      "2022-12-15    512.644515\n",
      "2022-12-16    506.538374\n",
      "2022-12-17    511.468473\n",
      "2022-12-18    506.456794\n",
      "2022-12-19    511.294290\n",
      "2022-12-20    506.298071\n",
      "2022-12-21    510.316666\n",
      "2022-12-22    505.915086\n",
      "2022-12-23    510.171874\n",
      "2022-12-24    506.243915\n",
      "2022-12-25    509.712988\n",
      "2022-12-26    505.778877\n",
      "2022-12-27    509.270167\n",
      "2022-12-28    506.128578\n",
      "2022-12-29    509.312004\n",
      "2022-12-30    505.956678\n",
      "2022-12-31    508.696969\n",
      "Freq: D, Name: Predication par ARIMA, dtype: float64\n"
     ]
    },
    {
     "name": "stderr",
     "output_type": "stream",
     "text": [
      "C:\\Users\\joshn\\AppData\\Roaming\\Python\\Python39\\site-packages\\statsmodels\\tsa\\base\\tsa_model.py:834: ValueWarning: No supported index is available. Prediction results will be given with an integer index beginning at `start`.\n",
      "  return get_prediction_index(\n"
     ]
    }
   ],
   "source": [
    "start=len(train_data)\n",
    "end=len(train_data)+len(test_data)-1\n",
    "pred1=model.predict(start=len(train_data), end=end,type='levels')\n",
    "print(pred)"
   ]
  },
  {
   "cell_type": "code",
   "execution_count": 164,
   "id": "30fc9121",
   "metadata": {},
   "outputs": [
    {
     "data": {
      "text/plain": [
       "<AxesSubplot:xlabel='DATE/HEURE'>"
      ]
     },
     "execution_count": 164,
     "metadata": {},
     "output_type": "execute_result"
    },
    {
     "data": {
      "image/png": "[encoded data removed]",
      "text/plain": [
       "<Figure size 640x480 with 1 Axes>"
      ]
     },
     "metadata": {},
     "output_type": "display_data"
    }
   ],
   "source": [
    "pred1.plot(legend=True)\n",
    "test_data['CO2'].plot(legend=True)"
   ]
  },
  {
   "cell_type": "code",
   "execution_count": 165,
   "id": "6bc2d471",
   "metadata": {},
   "outputs": [
    {
     "name": "stdout",
     "output_type": "stream",
     "text": [
      "90.18592502542586\n"
     ]
    }
   ],
   "source": [
    "rmse2=sqrt(mean_squared_error(pred1, test_data))\n",
    "print(rmse2)"
   ]
  },
  {
   "cell_type": "code",
   "execution_count": 154,
   "id": "948e728e",
   "metadata": {},
   "outputs": [
    {
     "name": "stderr",
     "output_type": "stream",
     "text": [
      "C:\\Users\\joshn\\AppData\\Roaming\\Python\\Python39\\site-packages\\statsmodels\\tsa\\base\\tsa_model.py:471: ValueWarning: An unsupported index was provided and will be ignored when e.g. forecasting.\n",
      "  self._init_dates(dates, freq)\n",
      "C:\\Users\\joshn\\AppData\\Roaming\\Python\\Python39\\site-packages\\statsmodels\\tsa\\base\\tsa_model.py:471: ValueWarning: An unsupported index was provided and will be ignored when e.g. forecasting.\n",
      "  self._init_dates(dates, freq)\n",
      "C:\\Users\\joshn\\AppData\\Roaming\\Python\\Python39\\site-packages\\statsmodels\\tsa\\base\\tsa_model.py:471: ValueWarning: An unsupported index was provided and will be ignored when e.g. forecasting.\n",
      "  self._init_dates(dates, freq)\n",
      "C:\\Users\\joshn\\AppData\\Roaming\\Python\\Python39\\site-packages\\statsmodels\\tsa\\statespace\\sarimax.py:966: UserWarning: Non-stationary starting autoregressive parameters found. Using zeros as starting parameters.\n",
      "  warn('Non-stationary starting autoregressive parameters'\n",
      "C:\\Users\\joshn\\AppData\\Roaming\\Python\\Python39\\site-packages\\statsmodels\\tsa\\statespace\\sarimax.py:978: UserWarning: Non-invertible starting MA parameters found. Using zeros as starting parameters.\n",
      "  warn('Non-invertible starting MA parameters found.'\n",
      "C:\\Users\\joshn\\AppData\\Roaming\\Python\\Python39\\site-packages\\statsmodels\\base\\model.py:604: ConvergenceWarning: Maximum Likelihood optimization failed to converge. Check mle_retvals\n",
      "  warnings.warn(\"Maximum Likelihood optimization failed to \"\n"
     ]
    }
   ],
   "source": [
    "model2=ARIMA(df['CO2'], order=(4, 1, 4))\n",
    "model2=model2.fit()"
   ]
  },
  {
   "cell_type": "code",
   "execution_count": 170,
   "id": "ebc1e574",
   "metadata": {},
   "outputs": [
    {
     "name": "stderr",
     "output_type": "stream",
     "text": [
      "C:\\Users\\joshn\\AppData\\Roaming\\Python\\Python39\\site-packages\\statsmodels\\tsa\\base\\tsa_model.py:834: ValueWarning: No supported index is available. Prediction results will be given with an integer index beginning at `start`.\n",
      "  return get_prediction_index(\n"
     ]
    }
   ],
   "source": [
    "index_future_dates=pd.date_range(start='2022-12-01', end='2023-12-01')\n",
    "pred=model2.predict(start=len(df['CO2']),end=len(df['CO2'])+365, type='levels').rename('Predication par ARIMA')\n",
    "pred.index=index_future_dates"
   ]
  },
  {
   "cell_type": "code",
   "execution_count": 82,
   "id": "2727867b",
   "metadata": {},
   "outputs": [],
   "source": [
    "pred.plot(figsize=(12,5), legends=True)"
   ]
  },
  {
   "cell_type": "markdown",
   "id": "6b9bed1f",
   "metadata": {},
   "source": [
    "plt.figure(figsize=(20,6))\n",
    "plt.plot(df.groupby('DATE/HEURE').count(), 'o', color='skyblue')\n",
    "plt.title('Nb of measurements per DATE/HEURE')\n",
    "plt.ylabel('number of measurements')\n",
    "plt.xlabel('DATE/HEURE')\n",
    "plt.show()"
   ]
  },
  {
   "cell_type": "code",
   "execution_count": null,
   "id": "45e239e9",
   "metadata": {},
   "outputs": [],
   "source": []
  },
  {
   "cell_type": "code",
   "execution_count": null,
   "id": "9b7826f4",
   "metadata": {},
   "outputs": [],
   "source": []
  },
  {
   "cell_type": "code",
   "execution_count": null,
   "id": "435a76dc",
   "metadata": {},
   "outputs": [],
   "source": []
  },
  {
   "cell_type": "code",
   "execution_count": null,
   "id": "b5a6ad80",
   "metadata": {},
   "outputs": [],
   "source": []
  },
  {
   "cell_type": "code",
   "execution_count": null,
   "id": "35fd8713",
   "metadata": {},
   "outputs": [],
   "source": []
  },
  {
   "cell_type": "code",
   "execution_count": null,
   "id": "fd6fab96",
   "metadata": {},
   "outputs": [],
   "source": []
  },
  {
   "cell_type": "code",
   "execution_count": null,
   "id": "9f1ffc2c",
   "metadata": {},
   "outputs": [],
   "source": []
  },
  {
   "cell_type": "code",
   "execution_count": null,
   "id": "cb49274c",
   "metadata": {},
   "outputs": [],
   "source": []
  },
  {
   "cell_type": "code",
   "execution_count": null,
   "id": "063861ca",
   "metadata": {},
   "outputs": [],
   "source": []
  },
  {
   "cell_type": "code",
   "execution_count": null,
   "id": "466183e9",
   "metadata": {},
   "outputs": [],
   "source": []
  },
  {
   "cell_type": "code",
   "execution_count": null,
   "id": "9a21927d",
   "metadata": {},
   "outputs": [],
   "source": []
  },
  {
   "cell_type": "code",
   "execution_count": null,
   "id": "e8834560",
   "metadata": {},
   "outputs": [],
   "source": []
  },
  {
   "cell_type": "code",
   "execution_count": null,
   "id": "0610cdec",
   "metadata": {},
   "outputs": [],
   "source": []
  },
  {
   "cell_type": "code",
   "execution_count": null,
   "id": "80e33fa1",
   "metadata": {},
   "outputs": [],
   "source": []
  },
  {
   "cell_type": "code",
   "execution_count": null,
   "id": "231c8c5e",
   "metadata": {},
   "outputs": [],
   "source": []
  },
  {
   "cell_type": "code",
   "execution_count": null,
   "id": "095d2b4f",
   "metadata": {},
   "outputs": [],
   "source": []
  },
  {
   "cell_type": "code",
   "execution_count": null,
   "id": "403e0533",
   "metadata": {},
   "outputs": [],
   "source": []
  },
  {
   "cell_type": "code",
   "execution_count": null,
   "id": "1d8d5a8a",
   "metadata": {},
   "outputs": [],
   "source": []
  },
  {
   "cell_type": "code",
   "execution_count": null,
   "id": "fc017d76",
   "metadata": {},
   "outputs": [],
   "source": []
  },
  {
   "cell_type": "code",
   "execution_count": null,
   "id": "094252c2",
   "metadata": {},
   "outputs": [],
   "source": []
  },
  {
   "cell_type": "code",
   "execution_count": null,
   "id": "eeec8312",
   "metadata": {},
   "outputs": [],
   "source": []
  },
  {
   "cell_type": "code",
   "execution_count": null,
   "id": "f31efb0f",
   "metadata": {},
   "outputs": [],
   "source": []
  },
  {
   "cell_type": "code",
   "execution_count": null,
   "id": "c03fc57f",
   "metadata": {},
   "outputs": [],
   "source": []
  },
  {
   "cell_type": "code",
   "execution_count": null,
   "id": "0eda2618",
   "metadata": {},
   "outputs": [],
   "source": []
  },
  {
   "cell_type": "code",
   "execution_count": null,
   "id": "89b80e8e",
   "metadata": {},
   "outputs": [],
   "source": []
  },
  {
   "cell_type": "code",
   "execution_count": null,
   "id": "7d196559",
   "metadata": {},
   "outputs": [],
   "source": []
  },
  {
   "cell_type": "code",
   "execution_count": null,
   "id": "e847ab5b",
   "metadata": {},
   "outputs": [],
   "source": []
  },
  {
   "cell_type": "code",
   "execution_count": null,
   "id": "cfc2ffc3",
   "metadata": {},
   "outputs": [],
   "source": []
  },
  {
   "cell_type": "code",
   "execution_count": null,
   "id": "03bbe3a8",
   "metadata": {},
   "outputs": [],
   "source": []
  },
  {
   "cell_type": "code",
   "execution_count": null,
   "id": "efadf951",
   "metadata": {},
   "outputs": [],
   "source": []
  },
  {
   "cell_type": "code",
   "execution_count": null,
   "id": "e64c4850",
   "metadata": {},
   "outputs": [],
   "source": []
  },
  {
   "cell_type": "code",
   "execution_count": null,
   "id": "32520b7a",
   "metadata": {},
   "outputs": [],
   "source": []
  },
  {
   "cell_type": "code",
   "execution_count": null,
   "id": "8957348c",
   "metadata": {},
   "outputs": [],
   "source": []
  },
  {
   "cell_type": "code",
   "execution_count": null,
   "id": "28f577f5",
   "metadata": {},
   "outputs": [],
   "source": []
  },
  {
   "cell_type": "code",
   "execution_count": null,
   "id": "3f514691",
   "metadata": {},
   "outputs": [],
   "source": []
  },
  {
   "cell_type": "code",
   "execution_count": null,
   "id": "18b0d636",
   "metadata": {},
   "outputs": [],
   "source": []
  },
  {
   "cell_type": "code",
   "execution_count": null,
   "id": "e6ae6c3b",
   "metadata": {},
   "outputs": [],
   "source": []
  },
  {
   "cell_type": "code",
   "execution_count": null,
   "id": "3818b802",
   "metadata": {},
   "outputs": [],
   "source": []
  },
  {
   "cell_type": "code",
   "execution_count": null,
   "id": "fb8024a9",
   "metadata": {},
   "outputs": [],
   "source": []
  },
  {
   "cell_type": "code",
   "execution_count": null,
   "id": "5a7d233b",
   "metadata": {},
   "outputs": [],
   "source": []
  },
  {
   "cell_type": "code",
   "execution_count": null,
   "id": "afe5df67",
   "metadata": {},
   "outputs": [],
   "source": []
  },
  {
   "cell_type": "code",
   "execution_count": null,
   "id": "a47c386c",
   "metadata": {},
   "outputs": [],
   "source": []
  },
  {
   "cell_type": "code",
   "execution_count": null,
   "id": "82056fd6",
   "metadata": {},
   "outputs": [],
   "source": []
  },
  {
   "cell_type": "code",
   "execution_count": null,
   "id": "731e4dd2",
   "metadata": {},
   "outputs": [],
   "source": []
  },
  {
   "cell_type": "code",
   "execution_count": null,
   "id": "da0bacc5",
   "metadata": {},
   "outputs": [],
   "source": [
    "\n",
    "\n"
   ]
  },
  {
   "cell_type": "code",
   "execution_count": null,
   "id": "a07c2e50",
   "metadata": {},
   "outputs": [],
   "source": [
    "\n"
   ]
  },
  {
   "cell_type": "code",
   "execution_count": null,
   "id": "068d8029",
   "metadata": {},
   "outputs": [],
   "source": []
  },
  {
   "cell_type": "code",
   "execution_count": null,
   "id": "73af245a",
   "metadata": {},
   "outputs": [],
   "source": [
    "\n",
    "\n"
   ]
  },
  {
   "cell_type": "code",
   "execution_count": null,
   "id": "b049aa96",
   "metadata": {},
   "outputs": [],
   "source": [
    "\n"
   ]
  },
  {
   "cell_type": "code",
   "execution_count": null,
   "id": "ac120f38",
   "metadata": {},
   "outputs": [],
   "source": []
  },
  {
   "cell_type": "code",
   "execution_count": null,
   "id": "79f40ae4",
   "metadata": {},
   "outputs": [],
   "source": []
  },
  {
   "cell_type": "code",
   "execution_count": null,
   "id": "cb853fe3",
   "metadata": {},
   "outputs": [],
   "source": []
  },
  {
   "cell_type": "code",
   "execution_count": null,
   "id": "23e69567",
   "metadata": {},
   "outputs": [],
   "source": []
  },
  {
   "cell_type": "code",
   "execution_count": null,
   "id": "4490115b",
   "metadata": {},
   "outputs": [],
   "source": []
  },
  {
   "cell_type": "code",
   "execution_count": null,
   "id": "48543c7f",
   "metadata": {},
   "outputs": [],
   "source": []
  },
  {
   "cell_type": "code",
   "execution_count": null,
   "id": "739c2eaf",
   "metadata": {},
   "outputs": [],
   "source": []
  },
  {
   "cell_type": "code",
   "execution_count": null,
   "id": "f2672050",
   "metadata": {},
   "outputs": [],
   "source": []
  },
  {
   "cell_type": "code",
   "execution_count": null,
   "id": "d085a983",
   "metadata": {},
   "outputs": [],
   "source": []
  },
  {
   "cell_type": "code",
   "execution_count": null,
   "id": "e3ee5f5f",
   "metadata": {
    "scrolled": true
   },
   "outputs": [],
   "source": []
  },
  {
   "cell_type": "code",
   "execution_count": null,
   "id": "b1d5e80e",
   "metadata": {},
   "outputs": [],
   "source": []
  },
  {
   "cell_type": "code",
   "execution_count": null,
   "id": "bed0e6b9",
   "metadata": {},
   "outputs": [],
   "source": []
  },
  {
   "cell_type": "code",
   "execution_count": null,
   "id": "e1d23ccf",
   "metadata": {},
   "outputs": [],
   "source": [
    "\n"
   ]
  },
  {
   "cell_type": "code",
   "execution_count": null,
   "id": "6852eab0",
   "metadata": {},
   "outputs": [],
   "source": []
  },
  {
   "cell_type": "code",
   "execution_count": null,
   "id": "0f3ec4d6",
   "metadata": {},
   "outputs": [],
   "source": []
  },
  {
   "cell_type": "code",
   "execution_count": null,
   "id": "7bdc4c7b",
   "metadata": {},
   "outputs": [],
   "source": []
  },
  {
   "cell_type": "code",
   "execution_count": null,
   "id": "486e60a1",
   "metadata": {},
   "outputs": [],
   "source": []
  },
  {
   "cell_type": "code",
   "execution_count": null,
   "id": "37d7d2e5",
   "metadata": {},
   "outputs": [],
   "source": []
  },
  {
   "cell_type": "code",
   "execution_count": null,
   "id": "fc2442b7",
   "metadata": {},
   "outputs": [],
   "source": []
  },
  {
   "cell_type": "code",
   "execution_count": null,
   "id": "0b3c0e0d",
   "metadata": {},
   "outputs": [],
   "source": []
  },
  {
   "cell_type": "code",
   "execution_count": null,
   "id": "81baecb4",
   "metadata": {},
   "outputs": [],
   "source": []
  },
  {
   "cell_type": "code",
   "execution_count": null,
   "id": "72221a8b",
   "metadata": {},
   "outputs": [],
   "source": []
  },
  {
   "cell_type": "code",
   "execution_count": null,
   "id": "46f48ec6",
   "metadata": {},
   "outputs": [],
   "source": []
  },
  {
   "cell_type": "code",
   "execution_count": null,
   "id": "1cdc4382",
   "metadata": {},
   "outputs": [],
   "source": []
  },
  {
   "cell_type": "code",
   "execution_count": null,
   "id": "a60b1b97",
   "metadata": {},
   "outputs": [],
   "source": []
  },
  {
   "cell_type": "code",
   "execution_count": null,
   "id": "12278d1c",
   "metadata": {},
   "outputs": [],
   "source": []
  },
  {
   "cell_type": "code",
   "execution_count": null,
   "id": "45ff034b",
   "metadata": {},
   "outputs": [],
   "source": []
  },
  {
   "cell_type": "code",
   "execution_count": null,
   "id": "18fdeff8",
   "metadata": {},
   "outputs": [],
   "source": []
  },
  {
   "cell_type": "code",
   "execution_count": null,
   "id": "9337eb69",
   "metadata": {},
   "outputs": [],
   "source": []
  },
  {
   "cell_type": "code",
   "execution_count": null,
   "id": "a298de80",
   "metadata": {},
   "outputs": [],
   "source": []
  },
  {
   "cell_type": "code",
   "execution_count": null,
   "id": "4c691d67",
   "metadata": {},
   "outputs": [],
   "source": []
  },
  {
   "cell_type": "code",
   "execution_count": null,
   "id": "ca80e33e",
   "metadata": {},
   "outputs": [],
   "source": []
  },
  {
   "cell_type": "code",
   "execution_count": null,
   "id": "f846f0c6",
   "metadata": {},
   "outputs": [],
   "source": []
  },
  {
   "cell_type": "code",
   "execution_count": null,
   "id": "fc27904c",
   "metadata": {},
   "outputs": [],
   "source": []
  },
  {
   "cell_type": "code",
   "execution_count": null,
   "id": "9cd0df1f",
   "metadata": {},
   "outputs": [],
   "source": []
  },
  {
   "cell_type": "code",
   "execution_count": null,
   "id": "0f97be8b",
   "metadata": {},
   "outputs": [],
   "source": []
  },
  {
   "cell_type": "code",
   "execution_count": null,
   "id": "a8d506f9",
   "metadata": {},
   "outputs": [],
   "source": []
  },
  {
   "cell_type": "code",
   "execution_count": null,
   "id": "b4af7dc7",
   "metadata": {},
   "outputs": [],
   "source": []
  },
  {
   "cell_type": "code",
   "execution_count": null,
   "id": "af59c2a3",
   "metadata": {},
   "outputs": [],
   "source": []
  },
  {
   "cell_type": "code",
   "execution_count": null,
   "id": "1fa0d6c7",
   "metadata": {},
   "outputs": [],
   "source": []
  },
  {
   "cell_type": "code",
   "execution_count": null,
   "id": "592315ad",
   "metadata": {},
   "outputs": [],
   "source": []
  },
  {
   "cell_type": "code",
   "execution_count": null,
   "id": "56cfd56d",
   "metadata": {},
   "outputs": [],
   "source": []
  },
  {
   "cell_type": "code",
   "execution_count": null,
   "id": "a667e73a",
   "metadata": {},
   "outputs": [],
   "source": []
  },
  {
   "cell_type": "code",
   "execution_count": null,
   "id": "242cb10c",
   "metadata": {},
   "outputs": [],
   "source": []
  },
  {
   "cell_type": "code",
   "execution_count": null,
   "id": "148bf161",
   "metadata": {},
   "outputs": [],
   "source": []
  },
  {
   "cell_type": "code",
   "execution_count": null,
   "id": "116dfa3a",
   "metadata": {},
   "outputs": [],
   "source": []
  },
  {
   "cell_type": "code",
   "execution_count": null,
   "id": "82f0bc70",
   "metadata": {},
   "outputs": [],
   "source": []
  },
  {
   "cell_type": "code",
   "execution_count": null,
   "id": "4751d128",
   "metadata": {},
   "outputs": [],
   "source": []
  },
  {
   "cell_type": "code",
   "execution_count": null,
   "id": "24a43bb0",
   "metadata": {},
   "outputs": [],
   "source": []
  }
 ],
 "metadata": {
  "kernelspec": {
   "display_name": "Python 3 (ipykernel)",
   "language": "python",
   "name": "python3"
  },
  "language_info": {
   "codemirror_mode": {
    "name": "ipython",
    "version": 3
   },
   "file_extension": ".py",
   "mimetype": "text/x-python",
   "name": "python",
   "nbconvert_exporter": "python",
   "pygments_lexer": "ipython3",
   "version": "3.9.13"
  }
 },
 "nbformat": 4,
 "nbformat_minor": 5
}
